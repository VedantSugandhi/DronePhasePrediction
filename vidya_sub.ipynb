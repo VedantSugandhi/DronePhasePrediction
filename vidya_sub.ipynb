{
 "cells": [
  {
   "cell_type": "code",
   "execution_count": 356,
   "metadata": {},
   "outputs": [],
   "source": [
    "import pandas as pd\n",
    "train_dataset = pd.read_csv('training-set.csv/training-set.csv',delimiter=',')\n",
    "judge_dataset = pd.read_csv('judge-set.csv/judge-set.csv',delimiter=',')\n"
   ]
  },
  {
   "cell_type": "code",
   "execution_count": 357,
   "metadata": {},
   "outputs": [
    {
     "data": {
      "text/html": [
       "<div>\n",
       "<style scoped>\n",
       "    .dataframe tbody tr th:only-of-type {\n",
       "        vertical-align: middle;\n",
       "    }\n",
       "\n",
       "    .dataframe tbody tr th {\n",
       "        vertical-align: top;\n",
       "    }\n",
       "\n",
       "    .dataframe thead th {\n",
       "        text-align: right;\n",
       "    }\n",
       "</style>\n",
       "<table border=\"1\" class=\"dataframe\">\n",
       "  <thead>\n",
       "    <tr style=\"text-align: right;\">\n",
       "      <th></th>\n",
       "      <th>Tick#</th>\n",
       "      <th>offsetTime</th>\n",
       "      <th>IMU_ATTI(0):numSats</th>\n",
       "      <th>IMU_ATTI(0):barometer:Raw</th>\n",
       "      <th>IMU_ATTI(0):barometer:Smooth</th>\n",
       "      <th>IMU_ATTI(0):accel:X</th>\n",
       "      <th>IMU_ATTI(0):accel:Y</th>\n",
       "      <th>IMU_ATTI(0):accel:Z</th>\n",
       "      <th>IMU_ATTI(0):accel:Composite</th>\n",
       "      <th>IMU_ATTI(0):gyro:X</th>\n",
       "      <th>...</th>\n",
       "      <th>MotorCtrl:PWM:RFront</th>\n",
       "      <th>MotorCtrl:PWM:LFront</th>\n",
       "      <th>MotorCtrl:PWM:LBack</th>\n",
       "      <th>MotorCtrl:PWM:RBack</th>\n",
       "      <th>AirCraftCondition:fsmState</th>\n",
       "      <th>AirCraftCondition:nearGround</th>\n",
       "      <th>AirCraftCondition:landState</th>\n",
       "      <th>AirCraftCondition:UP_acc_t</th>\n",
       "      <th>AirCraftCondition:UP_TF_t</th>\n",
       "      <th>Operating_Phase</th>\n",
       "    </tr>\n",
       "  </thead>\n",
       "  <tbody>\n",
       "    <tr>\n",
       "      <th>0</th>\n",
       "      <td>339062105</td>\n",
       "      <td>0.000</td>\n",
       "      <td>14</td>\n",
       "      <td>1188.3093</td>\n",
       "      <td>1188.0585</td>\n",
       "      <td>-0.007624</td>\n",
       "      <td>-0.162505</td>\n",
       "      <td>-0.980750</td>\n",
       "      <td>0.994151</td>\n",
       "      <td>-0.013848</td>\n",
       "      <td>...</td>\n",
       "      <td>NaN</td>\n",
       "      <td>NaN</td>\n",
       "      <td>NaN</td>\n",
       "      <td>NaN</td>\n",
       "      <td>0</td>\n",
       "      <td>True</td>\n",
       "      <td>1</td>\n",
       "      <td>0.0</td>\n",
       "      <td>0</td>\n",
       "      <td>Resting</td>\n",
       "    </tr>\n",
       "    <tr>\n",
       "      <th>1</th>\n",
       "      <td>339314363</td>\n",
       "      <td>0.066</td>\n",
       "      <td>14</td>\n",
       "      <td>1188.1595</td>\n",
       "      <td>1188.0468</td>\n",
       "      <td>-0.007572</td>\n",
       "      <td>-0.161164</td>\n",
       "      <td>-0.981163</td>\n",
       "      <td>0.994339</td>\n",
       "      <td>0.049079</td>\n",
       "      <td>...</td>\n",
       "      <td>NaN</td>\n",
       "      <td>NaN</td>\n",
       "      <td>NaN</td>\n",
       "      <td>NaN</td>\n",
       "      <td>0</td>\n",
       "      <td>True</td>\n",
       "      <td>1</td>\n",
       "      <td>0.0</td>\n",
       "      <td>0</td>\n",
       "      <td>Resting</td>\n",
       "    </tr>\n",
       "    <tr>\n",
       "      <th>2</th>\n",
       "      <td>339465911</td>\n",
       "      <td>0.105</td>\n",
       "      <td>14</td>\n",
       "      <td>1188.1595</td>\n",
       "      <td>1188.0468</td>\n",
       "      <td>-0.007572</td>\n",
       "      <td>-0.161164</td>\n",
       "      <td>-0.981163</td>\n",
       "      <td>0.994339</td>\n",
       "      <td>0.049079</td>\n",
       "      <td>...</td>\n",
       "      <td>NaN</td>\n",
       "      <td>NaN</td>\n",
       "      <td>NaN</td>\n",
       "      <td>NaN</td>\n",
       "      <td>0</td>\n",
       "      <td>True</td>\n",
       "      <td>1</td>\n",
       "      <td>0.0</td>\n",
       "      <td>0</td>\n",
       "      <td>Resting</td>\n",
       "    </tr>\n",
       "    <tr>\n",
       "      <th>3</th>\n",
       "      <td>339648466</td>\n",
       "      <td>0.152</td>\n",
       "      <td>14</td>\n",
       "      <td>1188.2122</td>\n",
       "      <td>1188.0359</td>\n",
       "      <td>-0.008646</td>\n",
       "      <td>-0.153160</td>\n",
       "      <td>-0.982913</td>\n",
       "      <td>0.994812</td>\n",
       "      <td>0.535372</td>\n",
       "      <td>...</td>\n",
       "      <td>NaN</td>\n",
       "      <td>NaN</td>\n",
       "      <td>NaN</td>\n",
       "      <td>NaN</td>\n",
       "      <td>1</td>\n",
       "      <td>True</td>\n",
       "      <td>1</td>\n",
       "      <td>0.0</td>\n",
       "      <td>0</td>\n",
       "      <td>Resting</td>\n",
       "    </tr>\n",
       "    <tr>\n",
       "      <th>4</th>\n",
       "      <td>339821470</td>\n",
       "      <td>0.197</td>\n",
       "      <td>14</td>\n",
       "      <td>1188.2122</td>\n",
       "      <td>1188.0359</td>\n",
       "      <td>-0.008646</td>\n",
       "      <td>-0.153160</td>\n",
       "      <td>-0.982913</td>\n",
       "      <td>0.994812</td>\n",
       "      <td>0.535372</td>\n",
       "      <td>...</td>\n",
       "      <td>NaN</td>\n",
       "      <td>NaN</td>\n",
       "      <td>NaN</td>\n",
       "      <td>NaN</td>\n",
       "      <td>1</td>\n",
       "      <td>True</td>\n",
       "      <td>1</td>\n",
       "      <td>0.0</td>\n",
       "      <td>0</td>\n",
       "      <td>Resting</td>\n",
       "    </tr>\n",
       "  </tbody>\n",
       "</table>\n",
       "<p>5 rows × 142 columns</p>\n",
       "</div>"
      ],
      "text/plain": [
       "       Tick#  offsetTime  IMU_ATTI(0):numSats  IMU_ATTI(0):barometer:Raw  \\\n",
       "0  339062105       0.000                   14                  1188.3093   \n",
       "1  339314363       0.066                   14                  1188.1595   \n",
       "2  339465911       0.105                   14                  1188.1595   \n",
       "3  339648466       0.152                   14                  1188.2122   \n",
       "4  339821470       0.197                   14                  1188.2122   \n",
       "\n",
       "   IMU_ATTI(0):barometer:Smooth  IMU_ATTI(0):accel:X  IMU_ATTI(0):accel:Y  \\\n",
       "0                     1188.0585            -0.007624            -0.162505   \n",
       "1                     1188.0468            -0.007572            -0.161164   \n",
       "2                     1188.0468            -0.007572            -0.161164   \n",
       "3                     1188.0359            -0.008646            -0.153160   \n",
       "4                     1188.0359            -0.008646            -0.153160   \n",
       "\n",
       "   IMU_ATTI(0):accel:Z  IMU_ATTI(0):accel:Composite  IMU_ATTI(0):gyro:X  ...  \\\n",
       "0            -0.980750                     0.994151           -0.013848  ...   \n",
       "1            -0.981163                     0.994339            0.049079  ...   \n",
       "2            -0.981163                     0.994339            0.049079  ...   \n",
       "3            -0.982913                     0.994812            0.535372  ...   \n",
       "4            -0.982913                     0.994812            0.535372  ...   \n",
       "\n",
       "   MotorCtrl:PWM:RFront  MotorCtrl:PWM:LFront  MotorCtrl:PWM:LBack  \\\n",
       "0                   NaN                   NaN                  NaN   \n",
       "1                   NaN                   NaN                  NaN   \n",
       "2                   NaN                   NaN                  NaN   \n",
       "3                   NaN                   NaN                  NaN   \n",
       "4                   NaN                   NaN                  NaN   \n",
       "\n",
       "   MotorCtrl:PWM:RBack  AirCraftCondition:fsmState  \\\n",
       "0                  NaN                           0   \n",
       "1                  NaN                           0   \n",
       "2                  NaN                           0   \n",
       "3                  NaN                           1   \n",
       "4                  NaN                           1   \n",
       "\n",
       "   AirCraftCondition:nearGround  AirCraftCondition:landState  \\\n",
       "0                          True                            1   \n",
       "1                          True                            1   \n",
       "2                          True                            1   \n",
       "3                          True                            1   \n",
       "4                          True                            1   \n",
       "\n",
       "   AirCraftCondition:UP_acc_t  AirCraftCondition:UP_TF_t  Operating_Phase  \n",
       "0                         0.0                          0          Resting  \n",
       "1                         0.0                          0          Resting  \n",
       "2                         0.0                          0          Resting  \n",
       "3                         0.0                          0          Resting  \n",
       "4                         0.0                          0          Resting  \n",
       "\n",
       "[5 rows x 142 columns]"
      ]
     },
     "execution_count": 357,
     "metadata": {},
     "output_type": "execute_result"
    }
   ],
   "source": [
    "train_dataset.head()"
   ]
  },
  {
   "cell_type": "code",
   "execution_count": 358,
   "metadata": {},
   "outputs": [
    {
     "name": "stdout",
     "output_type": "stream",
     "text": [
      "total number of rows = 5085\n",
      "total number of columns = 142\n",
      "number of columns having non-numeric values = 5\n",
      "columns with missing values = [('General:absoluteHeight', 5085), ('OA:frontDistance', 224), ('IMU_ATTI(1):directionOfTravel[true]', 32), ('IMU_ATTI(0):directionOfTravel[mag]', 8), ('IMU_ATTI(0):directionOfTravel[true]', 8), ('MotorCtrl:PWM:RFront', 5), ('MotorCtrl:PWM:LFront', 5), ('MotorCtrl:PWM:LBack', 5), ('MotorCtrl:PWM:RBack', 5), ('General:relativeHeight', 1)]\n",
      "\n"
     ]
    }
   ],
   "source": [
    "total_number_of_rows = train_dataset.shape[0] \n",
    "total_number_of_columns = train_dataset.shape[1]\n",
    "number_of_columns_non_numeric = len(train_dataset.select_dtypes(exclude=['number']).columns)\n",
    "missing_values = train_dataset.isnull().sum()\n",
    "missing_columns = [(column, missing_number) for column, missing_number in missing_values.items() if missing_number>0]\n",
    "missing_columns.sort(key=lambda x: x[1], reverse=True)\n",
    "summarizing =   f\"total number of rows = {total_number_of_rows}\\n\"\\\n",
    "                f\"total number of columns = {total_number_of_columns}\\n\"\\\n",
    "                f\"number of columns having non-numeric values = {number_of_columns_non_numeric}\\n\"\\\n",
    "                f\"columns with missing values = {missing_columns}\\n\"\n",
    "print(summarizing)"
   ]
  },
  {
   "cell_type": "code",
   "execution_count": 359,
   "metadata": {},
   "outputs": [],
   "source": [
    "column_name = 'Operating_Phase'\n",
    "X = train_dataset.drop(columns=[column_name])\n",
    "y = train_dataset[column_name]"
   ]
  },
  {
   "cell_type": "code",
   "execution_count": 360,
   "metadata": {},
   "outputs": [],
   "source": [
    "from sklearn.model_selection import train_test_split\n",
    "X_train, X_test, y_train, y_test = train_test_split(X, y, test_size=0.25, random_state=12346)\n",
    "# Define the list of columns to extract\n",
    "columns_to_drop = [\n",
    "    'General:absoluteHeight',\n",
    "    'GPS(0):Date',\n",
    "    'GPS(0):Time',\n",
    "    'GPS:dateTimeStamp',\n",
    "    'IMUEX(0):err',\n",
    "    'IMUEX(1):err',\n",
    "    'IMUEX(0):rtk_Alti',\n",
    "    'IMUEX(1):rtk_Alti'\n",
    "]\n",
    "\n",
    "X_train = X_train.drop(columns=columns_to_drop)\n",
    "X_test = X_test.drop(columns=columns_to_drop)\n"
   ]
  },
  {
   "cell_type": "code",
   "execution_count": 361,
   "metadata": {},
   "outputs": [
    {
     "name": "stdout",
     "output_type": "stream",
     "text": [
      "Index(['AirCraftCondition:nearGround'], dtype='object')\n"
     ]
    }
   ],
   "source": [
    "from sklearn.compose import make_column_transformer\n",
    "from sklearn.preprocessing import OneHotEncoder\n",
    "categorical_columns = X_train.select_dtypes(exclude=['number']).columns\n",
    "X_train_ohe = pd.get_dummies(X_train,  columns=categorical_columns, dtype=int)\n",
    "X_test_ohe = pd.get_dummies(X_test,  columns=categorical_columns, dtype=int)\n",
    "print(categorical_columns)"
   ]
  },
  {
   "cell_type": "code",
   "execution_count": 362,
   "metadata": {},
   "outputs": [],
   "source": [
    "missing_values = X_train_ohe.isnull().sum()\n",
    "missing_counts = pd.DataFrame({'variable_name': missing_values.index, 'num_of_missing_values': missing_values.values})\n",
    "X_train_ohe_imputed = X_train_ohe.fillna(X_train_ohe.mean())\n",
    "X_test_ohe_imputed = X_test_ohe.fillna(X_test_ohe.mean())"
   ]
  },
  {
   "cell_type": "code",
   "execution_count": 363,
   "metadata": {},
   "outputs": [
    {
     "name": "stdout",
     "output_type": "stream",
     "text": [
      "[] 134\n"
     ]
    }
   ],
   "source": [
    "\n",
    "missing_values = X_train_ohe_imputed.isnull().sum()\n",
    "missing_columns = [(column, missing_number) for column, missing_number in missing_values.items() if missing_number>0]\n",
    "print(missing_columns, X_train_ohe_imputed.shape[1])"
   ]
  },
  {
   "cell_type": "code",
   "execution_count": 364,
   "metadata": {},
   "outputs": [
    {
     "name": "stdout",
     "output_type": "stream",
     "text": [
      "                               variable  corr_score\n",
      "0                                 Tick#    0.004182\n",
      "1                            offsetTime    0.004182\n",
      "2                   IMU_ATTI(0):numSats    0.015660\n",
      "3             IMU_ATTI(0):barometer:Raw    0.022762\n",
      "4          IMU_ATTI(0):barometer:Smooth    0.020224\n",
      "..                                  ...         ...\n",
      "116          AirCraftCondition:fsmState    0.009518\n",
      "117         AirCraftCondition:landState    0.000189\n",
      "118          AirCraftCondition:UP_acc_t    0.008056\n",
      "119  AirCraftCondition:nearGround_False    0.017976\n",
      "120   AirCraftCondition:nearGround_True    0.017976\n",
      "\n",
      "[121 rows x 2 columns]\n"
     ]
    },
    {
     "name": "stderr",
     "output_type": "stream",
     "text": [
      "c:\\Users\\vrjav\\Downloads\\Assignments\\Fall 2023\\Machine Learning\\assignment\\Lib\\site-packages\\numpy\\lib\\function_base.py:2897: RuntimeWarning: invalid value encountered in divide\n",
      "  c /= stddev[:, None]\n",
      "c:\\Users\\vrjav\\Downloads\\Assignments\\Fall 2023\\Machine Learning\\assignment\\Lib\\site-packages\\numpy\\lib\\function_base.py:2898: RuntimeWarning: invalid value encountered in divide\n",
      "  c /= stddev[None, :]\n"
     ]
    }
   ],
   "source": [
    "from sklearn.preprocessing import LabelEncoder\n",
    "label_encoder = LabelEncoder()\n",
    "\n",
    "y_train_encoded = label_encoder.fit_transform(y_train)\n",
    "y_test_encoded = label_encoder.fit_transform(y_test)\n",
    "correlation_matrix = X_train_ohe_imputed.corrwith(pd.Series(y_train_encoded))\n",
    "\n",
    "correlation_matrix.dropna(inplace=True)\n",
    "\n",
    "top75_corr = correlation_matrix.abs()#.nlargest(70)\n",
    "top75_df = pd.DataFrame({'variable': top75_corr.index, 'corr_score': top75_corr.values})\n",
    "print(top75_df)\n"
   ]
  },
  {
   "cell_type": "code",
   "execution_count": 365,
   "metadata": {},
   "outputs": [
    {
     "data": {
      "text/plain": [
       "array([0, 0, 0, ..., 1, 0, 0])"
      ]
     },
     "execution_count": 365,
     "metadata": {},
     "output_type": "execute_result"
    }
   ],
   "source": [
    "y_train_encoded"
   ]
  },
  {
   "cell_type": "code",
   "execution_count": 351,
   "metadata": {},
   "outputs": [],
   "source": [
    "top75_variables = top75_df['variable'].tolist()\n",
    "\n",
    "X_train_t75 = X_train_ohe_imputed[top75_variables]\n",
    "X_test_t75 = X_test_ohe_imputed[top75_variables]\n"
   ]
  },
  {
   "cell_type": "code",
   "execution_count": 352,
   "metadata": {},
   "outputs": [],
   "source": [
    "from sklearn.preprocessing import MinMaxScaler\n",
    "scaler = MinMaxScaler()\n",
    "X_train_scaled_mm = scaler.fit_transform(X_train_t75)\n",
    "X_test_scaled_mm = scaler.fit_transform(X_test_t75)"
   ]
  },
  {
   "cell_type": "code",
   "execution_count": 353,
   "metadata": {},
   "outputs": [
    {
     "name": "stdout",
     "output_type": "stream",
     "text": [
      "[[ 0.72209135 -0.71522247 -0.86133174 ...  1.15873809  0.05969431\n",
      "   0.07786767]\n",
      " [ 1.09306424 -0.10311352  0.04210052 ...  0.72069587  0.05969431\n",
      "   4.99017137]\n",
      " [ 1.09306424  0.31642949  0.02175815 ...  0.72069587  0.05969431\n",
      "   4.9793457 ]\n",
      " ...\n",
      " [-0.45707249  0.16495654  0.11283046 ...  0.98807524  1.54737017\n",
      "   0.00921608]\n",
      " [-0.49681958  0.84004944 -0.41783064 ... -0.2867058   0.05969431\n",
      "   0.22862339]\n",
      " [ 1.06656618 -0.20089783  0.20626255 ...  0.67274561  0.05969431\n",
      "  -0.12321216]] [[-0.84350096 -0.28763791 -0.58829775 ...  1.18600539 -0.01077055\n",
      "  -0.02467509]\n",
      " [-0.79039334 -0.30643895 -0.05639939 ... -0.90990373 -1.5330086\n",
      "  -0.14740933]\n",
      " [ 0.68334308  0.72202692  0.49110607 ...  1.18600539 -0.01077055\n",
      "  -0.07255667]\n",
      " ...\n",
      " [-0.0999943   0.91138171  0.47090749 ... -0.30667353 -0.01077055\n",
      "   0.12067836]\n",
      " [ 0.55057403  0.24902365 -0.11077019 ... -0.02587189 -0.01077055\n",
      "  -0.06448214]\n",
      " [-1.812715    0.05314336 -0.1504278  ...  0.68413137 -0.01077055\n",
      "   0.09531411]]\n"
     ]
    }
   ],
   "source": [
    "from sklearn.preprocessing import StandardScaler\n",
    "scaler_s = StandardScaler()\n",
    "X_train_scaled_std = scaler_s.fit_transform(X_train_t75)\n",
    "X_test_scaled_std = scaler_s.fit_transform(X_test_t75)\n",
    "print(X_train_scaled_std,X_test_scaled_std)"
   ]
  },
  {
   "cell_type": "code",
   "execution_count": 354,
   "metadata": {},
   "outputs": [
    {
     "data": {
      "text/plain": [
       "'from sklearn.svm import SVC\\nfrom sklearn.metrics import accuracy_score\\n\\n# Create an SVM classifier\\nsvm_classifier = SVC()\\n\\n# Fit the SVM classifier on the training data\\nsvm_classifier.fit(X_train_t75, y_train_encoded)\\n\\n# Predict on the test data\\ny_pred = svm_classifier.predict(X_test_t75)\\n\\n# Calculate and print the accuracy\\naccuracy = accuracy_score(y_test_encoded, y_pred)\\nprint(f\"Test Accuracy: {accuracy * 100:.2f}%\")\\n\\nfrom sklearn.ensemble import RandomForestClassifier\\nfrom sklearn.metrics import accuracy_score\\n\\n# Create a Random Forest classifier\\nrf_classifier = RandomForestClassifier()\\n\\n# Fit the Random Forest classifier on the training data\\nrf_classifier.fit(X_train_t75, y_train_encoded)\\n\\n# Predict on the test data\\ny_pred_rf = rf_classifier.predict(X_test_t75)\\n\\n# Calculate and print the accuracy\\naccuracy_rf = accuracy_score(y_test_encoded, y_pred_rf)\\nprint(f\"Random Forest Test Accuracy: {accuracy_rf * 100:.2f}%\")\\n'"
      ]
     },
     "execution_count": 354,
     "metadata": {},
     "output_type": "execute_result"
    }
   ],
   "source": [
    "\"\"\"from sklearn.svm import SVC\n",
    "from sklearn.metrics import accuracy_score\n",
    "\n",
    "# Create an SVM classifier\n",
    "svm_classifier = SVC()\n",
    "\n",
    "# Fit the SVM classifier on the training data\n",
    "svm_classifier.fit(X_train_t75, y_train_encoded)\n",
    "\n",
    "# Predict on the test data\n",
    "y_pred = svm_classifier.predict(X_test_t75)\n",
    "\n",
    "# Calculate and print the accuracy\n",
    "accuracy = accuracy_score(y_test_encoded, y_pred)\n",
    "print(f\"Test Accuracy: {accuracy * 100:.2f}%\")\n",
    "\n",
    "from sklearn.ensemble import RandomForestClassifier\n",
    "from sklearn.metrics import accuracy_score\n",
    "\n",
    "# Create a Random Forest classifier\n",
    "rf_classifier = RandomForestClassifier()\n",
    "\n",
    "# Fit the Random Forest classifier on the training data\n",
    "rf_classifier.fit(X_train_t75, y_train_encoded)\n",
    "\n",
    "# Predict on the test data\n",
    "y_pred_rf = rf_classifier.predict(X_test_t75)\n",
    "\n",
    "# Calculate and print the accuracy\n",
    "accuracy_rf = accuracy_score(y_test_encoded, y_pred_rf)\n",
    "print(f\"Random Forest Test Accuracy: {accuracy_rf * 100:.2f}%\")\n",
    "\"\"\""
   ]
  },
  {
   "cell_type": "code",
   "execution_count": 1,
   "metadata": {},
   "outputs": [
    {
     "ename": "ModuleNotFoundError",
     "evalue": "No module named 'tensorflow.python'",
     "output_type": "error",
     "traceback": [
      "\u001b[1;31m---------------------------------------------------------------------------\u001b[0m",
      "\u001b[1;31mModuleNotFoundError\u001b[0m                       Traceback (most recent call last)",
      "\u001b[1;32md:\\Masters\\CUDenver\\classes\\Fall2023\\Machine Learning\\2023-data-science-competition-cu-denver\\vidya_sub.ipynb Cell 15\u001b[0m line \u001b[0;36m1\n\u001b[1;32m----> <a href='vscode-notebook-cell:/d%3A/Masters/CUDenver/classes/Fall2023/Machine%20Learning/2023-data-science-competition-cu-denver/vidya_sub.ipynb#X20sZmlsZQ%3D%3D?line=0'>1</a>\u001b[0m \u001b[39mimport\u001b[39;00m \u001b[39mtensorflow\u001b[39;00m \u001b[39mas\u001b[39;00m \u001b[39mtf\u001b[39;00m\n\u001b[0;32m      <a href='vscode-notebook-cell:/d%3A/Masters/CUDenver/classes/Fall2023/Machine%20Learning/2023-data-science-competition-cu-denver/vidya_sub.ipynb#X20sZmlsZQ%3D%3D?line=1'>2</a>\u001b[0m \u001b[39mfrom\u001b[39;00m \u001b[39mtensorflow\u001b[39;00m\u001b[39m.\u001b[39;00m\u001b[39mkeras\u001b[39;00m\u001b[39m.\u001b[39;00m\u001b[39mmodels\u001b[39;00m \u001b[39mimport\u001b[39;00m Sequential\n\u001b[0;32m      <a href='vscode-notebook-cell:/d%3A/Masters/CUDenver/classes/Fall2023/Machine%20Learning/2023-data-science-competition-cu-denver/vidya_sub.ipynb#X20sZmlsZQ%3D%3D?line=2'>3</a>\u001b[0m \u001b[39mfrom\u001b[39;00m \u001b[39mtensorflow\u001b[39;00m\u001b[39m.\u001b[39;00m\u001b[39mkeras\u001b[39;00m\u001b[39m.\u001b[39;00m\u001b[39mlayers\u001b[39;00m \u001b[39mimport\u001b[39;00m Conv1D, MaxPooling1D, LSTM, Dense, Flatten, Embedding\n",
      "File \u001b[1;32m~\\AppData\\Local\\Packages\\PythonSoftwareFoundation.Python.3.8_qbz5n2kfra8p0\\LocalCache\\local-packages\\Python38\\site-packages\\tensorflow\\__init__.py:38\u001b[0m\n\u001b[0;32m     35\u001b[0m \u001b[39mimport\u001b[39;00m \u001b[39msys\u001b[39;00m \u001b[39mas\u001b[39;00m \u001b[39m_sys\u001b[39;00m\n\u001b[0;32m     36\u001b[0m \u001b[39mimport\u001b[39;00m \u001b[39mtyping\u001b[39;00m \u001b[39mas\u001b[39;00m \u001b[39m_typing\u001b[39;00m\n\u001b[1;32m---> 38\u001b[0m \u001b[39mfrom\u001b[39;00m \u001b[39mtensorflow\u001b[39;00m\u001b[39m.\u001b[39;00m\u001b[39mpython\u001b[39;00m\u001b[39m.\u001b[39;00m\u001b[39mtools\u001b[39;00m \u001b[39mimport\u001b[39;00m module_util \u001b[39mas\u001b[39;00m _module_util\n\u001b[0;32m     39\u001b[0m \u001b[39mfrom\u001b[39;00m \u001b[39mtensorflow\u001b[39;00m\u001b[39m.\u001b[39;00m\u001b[39mpython\u001b[39;00m\u001b[39m.\u001b[39;00m\u001b[39mutil\u001b[39;00m\u001b[39m.\u001b[39;00m\u001b[39mlazy_loader\u001b[39;00m \u001b[39mimport\u001b[39;00m LazyLoader \u001b[39mas\u001b[39;00m _LazyLoader\n\u001b[0;32m     41\u001b[0m \u001b[39m# Make sure code inside the TensorFlow codebase can use tf2.enabled() at import.\u001b[39;00m\n",
      "\u001b[1;31mModuleNotFoundError\u001b[0m: No module named 'tensorflow.python'"
     ]
    }
   ],
   "source": [
    "import tensorflow as tf\n",
    "from tensorflow.keras.models import Sequential\n",
    "from tensorflow.keras.layers import Conv1D, MaxPooling1D, LSTM, Dense, Flatten, Embedding\n",
    "from tensorflow.keras.utils import to_categorical\n",
    "\n",
    "num_classes = 5\n",
    "model = Sequential()\n",
    "\n",
    "model.add(Conv1D(filters=64, kernel_size=3, activation='relu', input_shape=(X_train_t75.shape[1], 1)))\n",
    "model.add(MaxPooling1D(pool_size=2))\n",
    "\n",
    "model.add(LSTM(units=50, return_sequences=True))\n",
    "\n",
    "model.add(Flatten())\n",
    "model.add(Dense(units=num_classes, activation='softmax'))\n",
    "\n",
    "model.compile(optimizer='adam', loss='categorical_crossentropy', metrics=['accuracy'])\n",
    "\n",
    "num_classes = 5 \n",
    "y_train_encoded = to_categorical(y_train_encoded, num_classes=num_classes)\n",
    "\n",
    "model.fit(X_train_t75, y_train_encoded, epochs=10, batch_size=32)\n",
    "\n",
    "y_test_encoded = to_categorical(y_test_encoded, num_classes=num_classes)\n",
    "test_loss, test_accuracy = model.evaluate(X_test_t75, y_test_encoded)\n",
    "\n",
    "print(f\"Test Accuracy: {test_accuracy * 100:.2f}%\")\n"
   ]
  },
  {
   "cell_type": "code",
   "execution_count": 315,
   "metadata": {},
   "outputs": [],
   "source": [
    "judge_data = judge_dataset.drop(columns=columns_to_drop)"
   ]
  },
  {
   "cell_type": "code",
   "execution_count": 294,
   "metadata": {},
   "outputs": [
    {
     "name": "stdout",
     "output_type": "stream",
     "text": [
      "Index(['Tick#', 'offsetTime', 'IMU_ATTI(0):numSats',\n",
      "       'IMU_ATTI(0):barometer:Raw', 'IMU_ATTI(0):barometer:Smooth',\n",
      "       'IMU_ATTI(0):accel:X', 'IMU_ATTI(0):accel:Y', 'IMU_ATTI(0):accel:Z',\n",
      "       'IMU_ATTI(0):accel:Composite', 'IMU_ATTI(0):gyro:X',\n",
      "       ...\n",
      "       'IMU_ATTI(1):temperature', 'MotorCtrl:PWM:RFront',\n",
      "       'MotorCtrl:PWM:LFront', 'MotorCtrl:PWM:LBack', 'MotorCtrl:PWM:RBack',\n",
      "       'AirCraftCondition:fsmState', 'AirCraftCondition:landState',\n",
      "       'AirCraftCondition:UP_acc_t', 'AirCraftCondition:UP_TF_t',\n",
      "       'AirCraftCondition:nearGround_True'],\n",
      "      dtype='object', length=133)\n",
      "       Tick#  offsetTime  IMU_ATTI(0):numSats  IMU_ATTI(0):barometer:Raw  \\\n",
      "0  143222258       0.000                   11                   1230.502   \n",
      "1  143393138       0.044                   11                   1230.502   \n",
      "2  143566452       0.089                   11                   1230.404   \n",
      "3  143758752       0.139                   11                   1230.404   \n",
      "4  143892690       0.174                   11                   1230.404   \n",
      "\n",
      "   IMU_ATTI(0):barometer:Smooth  IMU_ATTI(0):accel:X  IMU_ATTI(0):accel:Y  \\\n",
      "0                     1229.9978             0.066096             0.108688   \n",
      "1                     1229.9978             0.066096             0.108688   \n",
      "2                     1229.9976             0.070309             0.122074   \n",
      "3                     1229.9976             0.070309             0.122074   \n",
      "4                     1229.9994             0.063894             0.110587   \n",
      "\n",
      "   IMU_ATTI(0):accel:Z  IMU_ATTI(0):accel:Composite  IMU_ATTI(0):gyro:X  ...  \\\n",
      "0            -0.990579                     0.998714            0.081449  ...   \n",
      "1            -0.990579                     0.998714            0.081449  ...   \n",
      "2            -0.989888                     0.999861           -0.701116  ...   \n",
      "3            -0.989888                     0.999861           -0.701116  ...   \n",
      "4            -0.990387                     0.998588           -0.357004  ...   \n",
      "\n",
      "   MotorCtrl:PWM:RFront  MotorCtrl:PWM:LFront  MotorCtrl:PWM:LBack  \\\n",
      "0                   NaN                   NaN                  NaN   \n",
      "1                   NaN                   NaN                  NaN   \n",
      "2                   NaN                   NaN                  NaN   \n",
      "3                   NaN                   NaN                  NaN   \n",
      "4                   NaN                   NaN                  NaN   \n",
      "\n",
      "   MotorCtrl:PWM:RBack  AirCraftCondition:fsmState  \\\n",
      "0                  NaN                           0   \n",
      "1                  NaN                           0   \n",
      "2                  NaN                           1   \n",
      "3                  NaN                           1   \n",
      "4                  NaN                           1   \n",
      "\n",
      "   AirCraftCondition:landState  AirCraftCondition:UP_acc_t  \\\n",
      "0                            1                         0.0   \n",
      "1                            1                         0.0   \n",
      "2                            1                         0.0   \n",
      "3                            1                         0.0   \n",
      "4                            1                         0.0   \n",
      "\n",
      "   AirCraftCondition:UP_TF_t  AirCraftCondition:nearGround_True  \\\n",
      "0                          0                                  1   \n",
      "1                          0                                  1   \n",
      "2                          0                                  1   \n",
      "3                          0                                  1   \n",
      "4                          0                                  1   \n",
      "\n",
      "   AirCraftCondition:nearGround_False  \n",
      "0                                   0  \n",
      "1                                   0  \n",
      "2                                   0  \n",
      "3                                   0  \n",
      "4                                   0  \n",
      "\n",
      "[5 rows x 134 columns]\n"
     ]
    }
   ],
   "source": [
    "categorical_columns = judge_data.select_dtypes(exclude=['number']).columns\n",
    "judge_data_ohe = pd.get_dummies(judge_data,  columns=categorical_columns, dtype=int)\n",
    "missing_values = judge_data_ohe.isnull().sum()\n",
    "missing_counts = pd.DataFrame({'variable_name': missing_values.index, 'num_of_missing_values': missing_values.values})\n",
    "judge_data_ohe_imputed = X_train_ohe.fillna(X_train_ohe.mean())\n",
    "print(judge_data_ohe.columns)\n",
    "judge_data_ohe['AirCraftCondition:nearGround_False'] = 0\n",
    "print(judge_data_ohe.head())"
   ]
  },
  {
   "cell_type": "code",
   "execution_count": 316,
   "metadata": {},
   "outputs": [],
   "source": [
    "judge_data_t75 = judge_data_ohe[top75_variables]\n",
    "X_judge_scaled_std = scaler_s.fit_transform(judge_data_t75)\n",
    " "
   ]
  },
  {
   "cell_type": "code",
   "execution_count": 317,
   "metadata": {},
   "outputs": [
    {
     "name": "stdout",
     "output_type": "stream",
     "text": [
      "207/207 [==============================] - 3s 13ms/step\n"
     ]
    }
   ],
   "source": [
    "import numpy as np\n",
    "predicted_probabilities = model.predict(X_judge_scaled_std) \n",
    "class_labels = ['Resting', 'Taking-Off', 'Hovering', 'Climbing', 'Landing']\n",
    "predicted_operating_phase_labels = [class_labels[np.argmax(prediction)] for prediction in predicted_probabilities]\n",
    "new_dataset = judge_data[[\"Tick#\"]].copy()\n",
    "new_dataset[\"Operating_Phase\"] = predicted_operating_phase_labels\n",
    "new_dataset.to_csv(\"new_dataset_with_tick_and_operating_phase.csv\", index=False)"
   ]
  },
  {
   "cell_type": "code",
   "execution_count": null,
   "metadata": {},
   "outputs": [],
   "source": []
  }
 ],
 "metadata": {
  "kernelspec": {
   "display_name": "assignment",
   "language": "python",
   "name": "python3"
  },
  "language_info": {
   "codemirror_mode": {
    "name": "ipython",
    "version": 3
   },
   "file_extension": ".py",
   "mimetype": "text/x-python",
   "name": "python",
   "nbconvert_exporter": "python",
   "pygments_lexer": "ipython3",
   "version": "3.8.10"
  },
  "orig_nbformat": 4
 },
 "nbformat": 4,
 "nbformat_minor": 2
}
