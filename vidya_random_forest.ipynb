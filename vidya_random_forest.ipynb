{
 "cells": [
  {
   "cell_type": "code",
   "execution_count": 82,
   "metadata": {},
   "outputs": [],
   "source": [
    "import pandas as pd\n",
    "train_dataset = pd.read_csv('training-set.csv/training-set.csv',delimiter=',')\n",
    "judge_dataset = pd.read_csv('judge-set.csv/judge-set.csv',delimiter=',')\n"
   ]
  },
  {
   "cell_type": "code",
   "execution_count": 83,
   "metadata": {},
   "outputs": [
    {
     "data": {
      "text/html": [
       "<div>\n",
       "<style scoped>\n",
       "    .dataframe tbody tr th:only-of-type {\n",
       "        vertical-align: middle;\n",
       "    }\n",
       "\n",
       "    .dataframe tbody tr th {\n",
       "        vertical-align: top;\n",
       "    }\n",
       "\n",
       "    .dataframe thead th {\n",
       "        text-align: right;\n",
       "    }\n",
       "</style>\n",
       "<table border=\"1\" class=\"dataframe\">\n",
       "  <thead>\n",
       "    <tr style=\"text-align: right;\">\n",
       "      <th></th>\n",
       "      <th>Tick#</th>\n",
       "      <th>offsetTime</th>\n",
       "      <th>IMU_ATTI(0):numSats</th>\n",
       "      <th>IMU_ATTI(0):barometer:Raw</th>\n",
       "      <th>IMU_ATTI(0):barometer:Smooth</th>\n",
       "      <th>IMU_ATTI(0):accel:X</th>\n",
       "      <th>IMU_ATTI(0):accel:Y</th>\n",
       "      <th>IMU_ATTI(0):accel:Z</th>\n",
       "      <th>IMU_ATTI(0):accel:Composite</th>\n",
       "      <th>IMU_ATTI(0):gyro:X</th>\n",
       "      <th>...</th>\n",
       "      <th>MotorCtrl:PWM:RFront</th>\n",
       "      <th>MotorCtrl:PWM:LFront</th>\n",
       "      <th>MotorCtrl:PWM:LBack</th>\n",
       "      <th>MotorCtrl:PWM:RBack</th>\n",
       "      <th>AirCraftCondition:fsmState</th>\n",
       "      <th>AirCraftCondition:nearGround</th>\n",
       "      <th>AirCraftCondition:landState</th>\n",
       "      <th>AirCraftCondition:UP_acc_t</th>\n",
       "      <th>AirCraftCondition:UP_TF_t</th>\n",
       "      <th>Operating_Phase</th>\n",
       "    </tr>\n",
       "  </thead>\n",
       "  <tbody>\n",
       "    <tr>\n",
       "      <th>0</th>\n",
       "      <td>339062105</td>\n",
       "      <td>0.000</td>\n",
       "      <td>14</td>\n",
       "      <td>1188.3093</td>\n",
       "      <td>1188.0585</td>\n",
       "      <td>-0.007624</td>\n",
       "      <td>-0.162505</td>\n",
       "      <td>-0.980750</td>\n",
       "      <td>0.994151</td>\n",
       "      <td>-0.013848</td>\n",
       "      <td>...</td>\n",
       "      <td>NaN</td>\n",
       "      <td>NaN</td>\n",
       "      <td>NaN</td>\n",
       "      <td>NaN</td>\n",
       "      <td>0</td>\n",
       "      <td>True</td>\n",
       "      <td>1</td>\n",
       "      <td>0.0</td>\n",
       "      <td>0</td>\n",
       "      <td>Resting</td>\n",
       "    </tr>\n",
       "    <tr>\n",
       "      <th>1</th>\n",
       "      <td>339314363</td>\n",
       "      <td>0.066</td>\n",
       "      <td>14</td>\n",
       "      <td>1188.1595</td>\n",
       "      <td>1188.0468</td>\n",
       "      <td>-0.007572</td>\n",
       "      <td>-0.161164</td>\n",
       "      <td>-0.981163</td>\n",
       "      <td>0.994339</td>\n",
       "      <td>0.049079</td>\n",
       "      <td>...</td>\n",
       "      <td>NaN</td>\n",
       "      <td>NaN</td>\n",
       "      <td>NaN</td>\n",
       "      <td>NaN</td>\n",
       "      <td>0</td>\n",
       "      <td>True</td>\n",
       "      <td>1</td>\n",
       "      <td>0.0</td>\n",
       "      <td>0</td>\n",
       "      <td>Resting</td>\n",
       "    </tr>\n",
       "    <tr>\n",
       "      <th>2</th>\n",
       "      <td>339465911</td>\n",
       "      <td>0.105</td>\n",
       "      <td>14</td>\n",
       "      <td>1188.1595</td>\n",
       "      <td>1188.0468</td>\n",
       "      <td>-0.007572</td>\n",
       "      <td>-0.161164</td>\n",
       "      <td>-0.981163</td>\n",
       "      <td>0.994339</td>\n",
       "      <td>0.049079</td>\n",
       "      <td>...</td>\n",
       "      <td>NaN</td>\n",
       "      <td>NaN</td>\n",
       "      <td>NaN</td>\n",
       "      <td>NaN</td>\n",
       "      <td>0</td>\n",
       "      <td>True</td>\n",
       "      <td>1</td>\n",
       "      <td>0.0</td>\n",
       "      <td>0</td>\n",
       "      <td>Resting</td>\n",
       "    </tr>\n",
       "    <tr>\n",
       "      <th>3</th>\n",
       "      <td>339648466</td>\n",
       "      <td>0.152</td>\n",
       "      <td>14</td>\n",
       "      <td>1188.2122</td>\n",
       "      <td>1188.0359</td>\n",
       "      <td>-0.008646</td>\n",
       "      <td>-0.153160</td>\n",
       "      <td>-0.982913</td>\n",
       "      <td>0.994812</td>\n",
       "      <td>0.535372</td>\n",
       "      <td>...</td>\n",
       "      <td>NaN</td>\n",
       "      <td>NaN</td>\n",
       "      <td>NaN</td>\n",
       "      <td>NaN</td>\n",
       "      <td>1</td>\n",
       "      <td>True</td>\n",
       "      <td>1</td>\n",
       "      <td>0.0</td>\n",
       "      <td>0</td>\n",
       "      <td>Resting</td>\n",
       "    </tr>\n",
       "    <tr>\n",
       "      <th>4</th>\n",
       "      <td>339821470</td>\n",
       "      <td>0.197</td>\n",
       "      <td>14</td>\n",
       "      <td>1188.2122</td>\n",
       "      <td>1188.0359</td>\n",
       "      <td>-0.008646</td>\n",
       "      <td>-0.153160</td>\n",
       "      <td>-0.982913</td>\n",
       "      <td>0.994812</td>\n",
       "      <td>0.535372</td>\n",
       "      <td>...</td>\n",
       "      <td>NaN</td>\n",
       "      <td>NaN</td>\n",
       "      <td>NaN</td>\n",
       "      <td>NaN</td>\n",
       "      <td>1</td>\n",
       "      <td>True</td>\n",
       "      <td>1</td>\n",
       "      <td>0.0</td>\n",
       "      <td>0</td>\n",
       "      <td>Resting</td>\n",
       "    </tr>\n",
       "  </tbody>\n",
       "</table>\n",
       "<p>5 rows × 142 columns</p>\n",
       "</div>"
      ],
      "text/plain": [
       "       Tick#  offsetTime  IMU_ATTI(0):numSats  IMU_ATTI(0):barometer:Raw  \\\n",
       "0  339062105       0.000                   14                  1188.3093   \n",
       "1  339314363       0.066                   14                  1188.1595   \n",
       "2  339465911       0.105                   14                  1188.1595   \n",
       "3  339648466       0.152                   14                  1188.2122   \n",
       "4  339821470       0.197                   14                  1188.2122   \n",
       "\n",
       "   IMU_ATTI(0):barometer:Smooth  IMU_ATTI(0):accel:X  IMU_ATTI(0):accel:Y  \\\n",
       "0                     1188.0585            -0.007624            -0.162505   \n",
       "1                     1188.0468            -0.007572            -0.161164   \n",
       "2                     1188.0468            -0.007572            -0.161164   \n",
       "3                     1188.0359            -0.008646            -0.153160   \n",
       "4                     1188.0359            -0.008646            -0.153160   \n",
       "\n",
       "   IMU_ATTI(0):accel:Z  IMU_ATTI(0):accel:Composite  IMU_ATTI(0):gyro:X  ...  \\\n",
       "0            -0.980750                     0.994151           -0.013848  ...   \n",
       "1            -0.981163                     0.994339            0.049079  ...   \n",
       "2            -0.981163                     0.994339            0.049079  ...   \n",
       "3            -0.982913                     0.994812            0.535372  ...   \n",
       "4            -0.982913                     0.994812            0.535372  ...   \n",
       "\n",
       "   MotorCtrl:PWM:RFront  MotorCtrl:PWM:LFront  MotorCtrl:PWM:LBack  \\\n",
       "0                   NaN                   NaN                  NaN   \n",
       "1                   NaN                   NaN                  NaN   \n",
       "2                   NaN                   NaN                  NaN   \n",
       "3                   NaN                   NaN                  NaN   \n",
       "4                   NaN                   NaN                  NaN   \n",
       "\n",
       "   MotorCtrl:PWM:RBack  AirCraftCondition:fsmState  \\\n",
       "0                  NaN                           0   \n",
       "1                  NaN                           0   \n",
       "2                  NaN                           0   \n",
       "3                  NaN                           1   \n",
       "4                  NaN                           1   \n",
       "\n",
       "   AirCraftCondition:nearGround  AirCraftCondition:landState  \\\n",
       "0                          True                            1   \n",
       "1                          True                            1   \n",
       "2                          True                            1   \n",
       "3                          True                            1   \n",
       "4                          True                            1   \n",
       "\n",
       "   AirCraftCondition:UP_acc_t  AirCraftCondition:UP_TF_t  Operating_Phase  \n",
       "0                         0.0                          0          Resting  \n",
       "1                         0.0                          0          Resting  \n",
       "2                         0.0                          0          Resting  \n",
       "3                         0.0                          0          Resting  \n",
       "4                         0.0                          0          Resting  \n",
       "\n",
       "[5 rows x 142 columns]"
      ]
     },
     "execution_count": 83,
     "metadata": {},
     "output_type": "execute_result"
    }
   ],
   "source": [
    "train_dataset.head()"
   ]
  },
  {
   "cell_type": "code",
   "execution_count": 84,
   "metadata": {},
   "outputs": [
    {
     "name": "stdout",
     "output_type": "stream",
     "text": [
      "total number of rows = 5085\n",
      "total number of columns = 142\n",
      "number of columns having non-numeric values = 5\n",
      "columns with missing values = [('General:absoluteHeight', 5085), ('OA:frontDistance', 224), ('IMU_ATTI(1):directionOfTravel[true]', 32), ('IMU_ATTI(0):directionOfTravel[mag]', 8), ('IMU_ATTI(0):directionOfTravel[true]', 8), ('MotorCtrl:PWM:RFront', 5), ('MotorCtrl:PWM:LFront', 5), ('MotorCtrl:PWM:LBack', 5), ('MotorCtrl:PWM:RBack', 5), ('General:relativeHeight', 1)]\n",
      "\n"
     ]
    }
   ],
   "source": [
    "total_number_of_rows = train_dataset.shape[0] \n",
    "total_number_of_columns = train_dataset.shape[1]\n",
    "number_of_columns_non_numeric = len(train_dataset.select_dtypes(exclude=['number']).columns)\n",
    "missing_values = train_dataset.isnull().sum()\n",
    "missing_columns = [(column, missing_number) for column, missing_number in missing_values.items() if missing_number>0]\n",
    "missing_columns.sort(key=lambda x: x[1], reverse=True)\n",
    "summarizing =   f\"total number of rows = {total_number_of_rows}\\n\"\\\n",
    "                f\"total number of columns = {total_number_of_columns}\\n\"\\\n",
    "                f\"number of columns having non-numeric values = {number_of_columns_non_numeric}\\n\"\\\n",
    "                f\"columns with missing values = {missing_columns}\\n\"\n",
    "print(summarizing)"
   ]
  },
  {
   "cell_type": "code",
   "execution_count": 85,
   "metadata": {},
   "outputs": [],
   "source": [
    "column_name = 'Operating_Phase'\n",
    "X = train_dataset.drop(columns=[column_name])\n",
    "y = train_dataset[column_name]"
   ]
  },
  {
   "cell_type": "code",
   "execution_count": 86,
   "metadata": {},
   "outputs": [],
   "source": [
    "from sklearn.model_selection import train_test_split\n",
    "X_train, X_test, y_train, y_test = train_test_split(X, y, test_size=0.25, random_state=12346)\n",
    "# Define the list of columns to extract\n",
    "columns_to_drop = [\n",
    "    'General:absoluteHeight',\n",
    "    'GPS(0):Date',\n",
    "    'GPS(0):Time',\n",
    "    'GPS:dateTimeStamp',\n",
    "    'IMUEX(0):err',\n",
    "    'IMUEX(1):err',\n",
    "    'IMUEX(0):rtk_Alti',\n",
    "    'IMUEX(1):rtk_Alti'\n",
    "]\n",
    "\n",
    "X_train = X_train.drop(columns=columns_to_drop)\n",
    "X_test = X_test.drop(columns=columns_to_drop)\n"
   ]
  },
  {
   "cell_type": "code",
   "execution_count": 87,
   "metadata": {},
   "outputs": [
    {
     "name": "stdout",
     "output_type": "stream",
     "text": [
      "Index(['AirCraftCondition:nearGround'], dtype='object')\n"
     ]
    }
   ],
   "source": [
    "from sklearn.compose import make_column_transformer\n",
    "from sklearn.preprocessing import OneHotEncoder\n",
    "categorical_columns = X_train.select_dtypes(exclude=['number']).columns\n",
    "X_train_ohe = pd.get_dummies(X_train,  columns=categorical_columns, dtype=int)\n",
    "X_test_ohe = pd.get_dummies(X_test,  columns=categorical_columns, dtype=int)\n",
    "print(categorical_columns)"
   ]
  },
  {
   "cell_type": "code",
   "execution_count": 88,
   "metadata": {},
   "outputs": [],
   "source": [
    "missing_values = X_train_ohe.isnull().sum()\n",
    "missing_counts = pd.DataFrame({'variable_name': missing_values.index, 'num_of_missing_values': missing_values.values})\n",
    "X_train_ohe_imputed = X_train_ohe.fillna(X_train_ohe.mean())\n",
    "X_test_ohe_imputed = X_test_ohe.fillna(X_test_ohe.mean())"
   ]
  },
  {
   "cell_type": "code",
   "execution_count": 89,
   "metadata": {},
   "outputs": [
    {
     "name": "stdout",
     "output_type": "stream",
     "text": [
      "[] 134\n"
     ]
    }
   ],
   "source": [
    "\n",
    "missing_values = X_train_ohe_imputed.isnull().sum()\n",
    "missing_columns = [(column, missing_number) for column, missing_number in missing_values.items() if missing_number>0]\n",
    "print(missing_columns, X_train_ohe_imputed.shape[1])"
   ]
  },
  {
   "cell_type": "code",
   "execution_count": 90,
   "metadata": {},
   "outputs": [
    {
     "name": "stderr",
     "output_type": "stream",
     "text": [
      "c:\\Users\\vrjav\\Downloads\\Assignments\\Fall 2023\\Machine Learning\\assignment\\Lib\\site-packages\\numpy\\lib\\function_base.py:2897: RuntimeWarning: invalid value encountered in divide\n",
      "  c /= stddev[:, None]\n",
      "c:\\Users\\vrjav\\Downloads\\Assignments\\Fall 2023\\Machine Learning\\assignment\\Lib\\site-packages\\numpy\\lib\\function_base.py:2898: RuntimeWarning: invalid value encountered in divide\n",
      "  c /= stddev[None, :]\n"
     ]
    },
    {
     "name": "stdout",
     "output_type": "stream",
     "text": [
      "                               variable  corr_score\n",
      "0                                 Tick#    0.004182\n",
      "1                            offsetTime    0.004182\n",
      "2                   IMU_ATTI(0):numSats    0.015660\n",
      "3             IMU_ATTI(0):barometer:Raw    0.022762\n",
      "4          IMU_ATTI(0):barometer:Smooth    0.020224\n",
      "..                                  ...         ...\n",
      "116          AirCraftCondition:fsmState    0.009518\n",
      "117         AirCraftCondition:landState    0.000189\n",
      "118          AirCraftCondition:UP_acc_t    0.008056\n",
      "119  AirCraftCondition:nearGround_False    0.017976\n",
      "120   AirCraftCondition:nearGround_True    0.017976\n",
      "\n",
      "[121 rows x 2 columns]\n"
     ]
    }
   ],
   "source": [
    "from sklearn.preprocessing import LabelEncoder\n",
    "label_encoder = LabelEncoder()\n",
    "\n",
    "y_train_encoded = label_encoder.fit_transform(y_train)\n",
    "y_test_encoded = label_encoder.fit_transform(y_test)\n",
    "correlation_matrix = X_train_ohe_imputed.corrwith(pd.Series(y_train_encoded))\n",
    "\n",
    "correlation_matrix.dropna(inplace=True)\n",
    "\n",
    "top75_corr = correlation_matrix.abs()#.nlargest(70)\n",
    "top75_df = pd.DataFrame({'variable': top75_corr.index, 'corr_score': top75_corr.values})\n",
    "print(top75_df)\n"
   ]
  },
  {
   "cell_type": "code",
   "execution_count": 91,
   "metadata": {},
   "outputs": [
    {
     "data": {
      "text/plain": [
       "array([0, 0, 0, ..., 1, 0, 0])"
      ]
     },
     "execution_count": 91,
     "metadata": {},
     "output_type": "execute_result"
    }
   ],
   "source": [
    "y_train_encoded"
   ]
  },
  {
   "cell_type": "code",
   "execution_count": 92,
   "metadata": {},
   "outputs": [],
   "source": [
    "top75_variables = top75_df['variable'].tolist()\n",
    "\n",
    "X_train_t75 = X_train_ohe_imputed[top75_variables]\n",
    "X_test_t75 = X_test_ohe_imputed[top75_variables]\n"
   ]
  },
  {
   "cell_type": "code",
   "execution_count": 93,
   "metadata": {},
   "outputs": [],
   "source": [
    "from sklearn.preprocessing import MinMaxScaler\n",
    "scaler = MinMaxScaler()\n",
    "X_train_scaled_mm = scaler.fit_transform(X_train_t75)\n",
    "X_test_scaled_mm = scaler.fit_transform(X_test_t75)"
   ]
  },
  {
   "cell_type": "code",
   "execution_count": 94,
   "metadata": {},
   "outputs": [
    {
     "name": "stdout",
     "output_type": "stream",
     "text": [
      "[[-0.12412592 -0.12411939  0.06040737 ... -0.55339394  0.50221186\n",
      "  -0.50221186]\n",
      " [ 0.07727642  0.07728184  0.06040737 ... -0.55339394  0.50221186\n",
      "  -0.50221186]\n",
      " [ 0.07433918  0.07433592  0.06040737 ... -0.55339394  0.50221186\n",
      "  -0.50221186]\n",
      " ...\n",
      " [-0.52344046 -0.52343653  1.54642876 ... -0.55339394  0.50221186\n",
      "  -0.50221186]\n",
      " [ 1.51458441  1.51458566  0.06040737 ... -0.55339394  0.50221186\n",
      "  -0.50221186]\n",
      " [-1.18635037 -1.18635112  0.06040737 ... -0.55339394  0.50221186\n",
      "  -0.50221186]] [[ 0.0030501   0.00305428 -0.01674033 ... -0.56504188  0.48348075\n",
      "  -0.48348075]\n",
      " [ 1.71629295  1.7162896  -1.53771876 ... -0.56504188 -2.06833467\n",
      "   2.06833467]\n",
      " [-0.10959081 -0.10959604 -0.01674033 ... -0.56504188  0.48348075\n",
      "  -0.48348075]\n",
      " ...\n",
      " [ 1.56802141  1.5680248  -0.01674033 ... -0.23564991  0.48348075\n",
      "  -0.48348075]\n",
      " [ 0.28728041  0.28728122 -0.01674033 ... -0.56504188  0.48348075\n",
      "  -0.48348075]\n",
      " [-1.13002836 -1.13002909 -0.01674033 ... -0.56504188  0.48348075\n",
      "  -0.48348075]]\n"
     ]
    }
   ],
   "source": [
    "from sklearn.preprocessing import StandardScaler\n",
    "scaler_s = StandardScaler()\n",
    "X_train_scaled_std = scaler_s.fit_transform(X_train_t75)\n",
    "X_test_scaled_std = scaler_s.fit_transform(X_test_t75)\n",
    "print(X_train_scaled_std,X_test_scaled_std)"
   ]
  },
  {
   "cell_type": "code",
   "execution_count": 95,
   "metadata": {},
   "outputs": [
    {
     "name": "stderr",
     "output_type": "stream",
     "text": [
      "c:\\Users\\vrjav\\Downloads\\Assignments\\Fall 2023\\Machine Learning\\assignment\\Lib\\site-packages\\xgboost\\data.py:335: FutureWarning: is_sparse is deprecated and will be removed in a future version. Check `isinstance(dtype, pd.SparseDtype)` instead.\n",
      "  if is_sparse(dtype):\n",
      "c:\\Users\\vrjav\\Downloads\\Assignments\\Fall 2023\\Machine Learning\\assignment\\Lib\\site-packages\\xgboost\\data.py:338: FutureWarning: is_categorical_dtype is deprecated and will be removed in a future version. Use isinstance(dtype, CategoricalDtype) instead\n",
      "  is_categorical_dtype(dtype) or is_pa_ext_categorical_dtype(dtype)\n",
      "c:\\Users\\vrjav\\Downloads\\Assignments\\Fall 2023\\Machine Learning\\assignment\\Lib\\site-packages\\xgboost\\data.py:384: FutureWarning: is_categorical_dtype is deprecated and will be removed in a future version. Use isinstance(dtype, CategoricalDtype) instead\n",
      "  if is_categorical_dtype(dtype):\n",
      "c:\\Users\\vrjav\\Downloads\\Assignments\\Fall 2023\\Machine Learning\\assignment\\Lib\\site-packages\\xgboost\\data.py:359: FutureWarning: is_categorical_dtype is deprecated and will be removed in a future version. Use isinstance(dtype, CategoricalDtype) instead\n",
      "  return is_int or is_bool or is_float or is_categorical_dtype(dtype)\n",
      "c:\\Users\\vrjav\\Downloads\\Assignments\\Fall 2023\\Machine Learning\\assignment\\Lib\\site-packages\\xgboost\\data.py:335: FutureWarning: is_sparse is deprecated and will be removed in a future version. Check `isinstance(dtype, pd.SparseDtype)` instead.\n",
      "  if is_sparse(dtype):\n",
      "c:\\Users\\vrjav\\Downloads\\Assignments\\Fall 2023\\Machine Learning\\assignment\\Lib\\site-packages\\xgboost\\data.py:338: FutureWarning: is_categorical_dtype is deprecated and will be removed in a future version. Use isinstance(dtype, CategoricalDtype) instead\n",
      "  is_categorical_dtype(dtype) or is_pa_ext_categorical_dtype(dtype)\n",
      "c:\\Users\\vrjav\\Downloads\\Assignments\\Fall 2023\\Machine Learning\\assignment\\Lib\\site-packages\\xgboost\\data.py:384: FutureWarning: is_categorical_dtype is deprecated and will be removed in a future version. Use isinstance(dtype, CategoricalDtype) instead\n",
      "  if is_categorical_dtype(dtype):\n",
      "c:\\Users\\vrjav\\Downloads\\Assignments\\Fall 2023\\Machine Learning\\assignment\\Lib\\site-packages\\xgboost\\data.py:359: FutureWarning: is_categorical_dtype is deprecated and will be removed in a future version. Use isinstance(dtype, CategoricalDtype) instead\n",
      "  return is_int or is_bool or is_float or is_categorical_dtype(dtype)\n"
     ]
    }
   ],
   "source": [
    "\"\"\"from sklearn.ensemble import RandomForestClassifier\n",
    "\n",
    "# Create a Random Forest classifier\n",
    "rf_classifier = RandomForestClassifier(n_estimators=100, random_state=42)\n",
    "\n",
    "# Fit the Random Forest classifier on the training data\n",
    "rf_classifier.fit(X_train_t75, y_train_encoded)\n",
    "\n",
    "# Predict on the test data\n",
    "y_pred = rf_classifier.predict(X_test_t75)\n",
    "\n",
    "# Calculate and print the accuracy\n",
    "from sklearn.metrics import accuracy_score\n",
    "\n",
    "accuracy = accuracy_score(y_test_encoded, y_pred)\n",
    "print(f\"Test Accuracy: {accuracy * 100:.2f}%\")\n",
    "\"\"\"\n",
    "import xgboost as xgb\n",
    "from sklearn.metrics import accuracy_score\n",
    "\n",
    "# Create an XGBoost classifier\n",
    "xgb_classifier = xgb.XGBClassifier(n_estimators=100, random_state=42)\n",
    "\n",
    "X_train_t75.columns = [col.replace('[', '_').replace(']', '_') for col in X_train_t75.columns]\n",
    "X_test_t75.columns = [col.replace('[', '_').replace(']', '_') for col in X_test_t75.columns]\n",
    "\n",
    "# Fit the XGBoost classifier on the training data\n",
    "xgb_classifier.fit(X_train_t75, y_train_encoded)\n",
    "\n",
    "# Predict on the test data\n",
    "y_pred = xgb_classifier.predict(X_test_t75)\n",
    "\n",
    "\n"
   ]
  },
  {
   "cell_type": "code",
   "execution_count": 96,
   "metadata": {},
   "outputs": [
    {
     "name": "stdout",
     "output_type": "stream",
     "text": [
      "Test Accuracy: 99.69%\n"
     ]
    }
   ],
   "source": [
    "# Calculate and print the accuracy\n",
    "accuracy = accuracy_score(y_test_encoded, y_pred)\n",
    "print(f\"Test Accuracy: {accuracy * 100:.2f}%\")"
   ]
  },
  {
   "cell_type": "code",
   "execution_count": 97,
   "metadata": {},
   "outputs": [
    {
     "name": "stdout",
     "output_type": "stream",
     "text": [
      "Test Accuracy: 99.69%\n",
      "Test Precision: 99.85%\n"
     ]
    }
   ],
   "source": [
    "from sklearn.metrics import accuracy_score, precision_score\n",
    "\n",
    "# Calculate accuracy\n",
    "accuracy = accuracy_score(y_test_encoded, y_pred)\n",
    "print(f\"Test Accuracy: {accuracy * 100:.2f}%\")\n",
    "\n",
    "# Calculate precision\n",
    "precision = precision_score(y_test_encoded, y_pred, average='macro')  # You can use 'micro' or 'weighted' as well\n",
    "print(f\"Test Precision: {precision * 100:.2f}%\")\n"
   ]
  },
  {
   "cell_type": "code",
   "execution_count": 98,
   "metadata": {},
   "outputs": [],
   "source": [
    "judge_data = judge_dataset.drop(columns=columns_to_drop)"
   ]
  },
  {
   "cell_type": "code",
   "execution_count": 99,
   "metadata": {},
   "outputs": [
    {
     "name": "stdout",
     "output_type": "stream",
     "text": [
      "Index(['Tick#', 'offsetTime', 'IMU_ATTI(0):numSats',\n",
      "       'IMU_ATTI(0):barometer:Raw', 'IMU_ATTI(0):barometer:Smooth',\n",
      "       'IMU_ATTI(0):accel:X', 'IMU_ATTI(0):accel:Y', 'IMU_ATTI(0):accel:Z',\n",
      "       'IMU_ATTI(0):accel:Composite', 'IMU_ATTI(0):gyro:X',\n",
      "       ...\n",
      "       'IMU_ATTI(1):temperature', 'MotorCtrl:PWM:RFront',\n",
      "       'MotorCtrl:PWM:LFront', 'MotorCtrl:PWM:LBack', 'MotorCtrl:PWM:RBack',\n",
      "       'AirCraftCondition:fsmState', 'AirCraftCondition:landState',\n",
      "       'AirCraftCondition:UP_acc_t', 'AirCraftCondition:UP_TF_t',\n",
      "       'AirCraftCondition:nearGround_True'],\n",
      "      dtype='object', length=133)\n",
      "       Tick#  offsetTime  IMU_ATTI(0):numSats  IMU_ATTI(0):barometer:Raw  \\\n",
      "0  143222258       0.000                   11                   1230.502   \n",
      "1  143393138       0.044                   11                   1230.502   \n",
      "2  143566452       0.089                   11                   1230.404   \n",
      "3  143758752       0.139                   11                   1230.404   \n",
      "4  143892690       0.174                   11                   1230.404   \n",
      "\n",
      "   IMU_ATTI(0):barometer:Smooth  IMU_ATTI(0):accel:X  IMU_ATTI(0):accel:Y  \\\n",
      "0                     1229.9978             0.066096             0.108688   \n",
      "1                     1229.9978             0.066096             0.108688   \n",
      "2                     1229.9976             0.070309             0.122074   \n",
      "3                     1229.9976             0.070309             0.122074   \n",
      "4                     1229.9994             0.063894             0.110587   \n",
      "\n",
      "   IMU_ATTI(0):accel:Z  IMU_ATTI(0):accel:Composite  IMU_ATTI(0):gyro:X  ...  \\\n",
      "0            -0.990579                     0.998714            0.081449  ...   \n",
      "1            -0.990579                     0.998714            0.081449  ...   \n",
      "2            -0.989888                     0.999861           -0.701116  ...   \n",
      "3            -0.989888                     0.999861           -0.701116  ...   \n",
      "4            -0.990387                     0.998588           -0.357004  ...   \n",
      "\n",
      "   MotorCtrl:PWM:RFront  MotorCtrl:PWM:LFront  MotorCtrl:PWM:LBack  \\\n",
      "0                   NaN                   NaN                  NaN   \n",
      "1                   NaN                   NaN                  NaN   \n",
      "2                   NaN                   NaN                  NaN   \n",
      "3                   NaN                   NaN                  NaN   \n",
      "4                   NaN                   NaN                  NaN   \n",
      "\n",
      "   MotorCtrl:PWM:RBack  AirCraftCondition:fsmState  \\\n",
      "0                  NaN                           0   \n",
      "1                  NaN                           0   \n",
      "2                  NaN                           1   \n",
      "3                  NaN                           1   \n",
      "4                  NaN                           1   \n",
      "\n",
      "   AirCraftCondition:landState  AirCraftCondition:UP_acc_t  \\\n",
      "0                            1                         0.0   \n",
      "1                            1                         0.0   \n",
      "2                            1                         0.0   \n",
      "3                            1                         0.0   \n",
      "4                            1                         0.0   \n",
      "\n",
      "   AirCraftCondition:UP_TF_t  AirCraftCondition:nearGround_True  \\\n",
      "0                          0                                  1   \n",
      "1                          0                                  1   \n",
      "2                          0                                  1   \n",
      "3                          0                                  1   \n",
      "4                          0                                  1   \n",
      "\n",
      "   AirCraftCondition:nearGround_False  \n",
      "0                                   0  \n",
      "1                                   0  \n",
      "2                                   0  \n",
      "3                                   0  \n",
      "4                                   0  \n",
      "\n",
      "[5 rows x 134 columns]\n"
     ]
    }
   ],
   "source": [
    "categorical_columns = judge_data.select_dtypes(exclude=['number']).columns\n",
    "judge_data_ohe = pd.get_dummies(judge_data,  columns=categorical_columns, dtype=int)\n",
    "missing_values = judge_data_ohe.isnull().sum()\n",
    "missing_counts = pd.DataFrame({'variable_name': missing_values.index, 'num_of_missing_values': missing_values.values})\n",
    "judge_data_ohe_imputed = X_train_ohe.fillna(X_train_ohe.mean())\n",
    "print(judge_data_ohe.columns)\n",
    "judge_data_ohe['AirCraftCondition:nearGround_False'] = 0\n",
    "print(judge_data_ohe.head())"
   ]
  },
  {
   "cell_type": "code",
   "execution_count": 100,
   "metadata": {},
   "outputs": [],
   "source": [
    "judge_data_t75 = judge_data_ohe[top75_variables]\n",
    "X_judge_scaled_std = scaler_s.fit_transform(judge_data_t75)\n",
    " "
   ]
  },
  {
   "cell_type": "code",
   "execution_count": 101,
   "metadata": {},
   "outputs": [
    {
     "data": {
      "text/plain": [
       "'model.fit(X_train_t75, y_train_encoded, epochs=10, batch_size=32)\\n\\ny_test_encoded = to_categorical(y_test_encoded, num_classes=num_classes)\\ntest_loss, test_accuracy = model.evaluate(X_test_t75, y_test_encoded)\\n'"
      ]
     },
     "execution_count": 101,
     "metadata": {},
     "output_type": "execute_result"
    }
   ],
   "source": [
    "\"\"\"model.fit(X_train_t75, y_train_encoded, epochs=10, batch_size=32)\n",
    "\n",
    "y_test_encoded = to_categorical(y_test_encoded, num_classes=num_classes)\n",
    "test_loss, test_accuracy = model.evaluate(X_test_t75, y_test_encoded)\n",
    "\"\"\""
   ]
  },
  {
   "cell_type": "code",
   "execution_count": 102,
   "metadata": {},
   "outputs": [
    {
     "name": "stderr",
     "output_type": "stream",
     "text": [
      "c:\\Users\\vrjav\\Downloads\\Assignments\\Fall 2023\\Machine Learning\\assignment\\Lib\\site-packages\\xgboost\\data.py:335: FutureWarning: is_sparse is deprecated and will be removed in a future version. Check `isinstance(dtype, pd.SparseDtype)` instead.\n",
      "  if is_sparse(dtype):\n",
      "c:\\Users\\vrjav\\Downloads\\Assignments\\Fall 2023\\Machine Learning\\assignment\\Lib\\site-packages\\xgboost\\data.py:338: FutureWarning: is_categorical_dtype is deprecated and will be removed in a future version. Use isinstance(dtype, CategoricalDtype) instead\n",
      "  is_categorical_dtype(dtype) or is_pa_ext_categorical_dtype(dtype)\n",
      "c:\\Users\\vrjav\\Downloads\\Assignments\\Fall 2023\\Machine Learning\\assignment\\Lib\\site-packages\\xgboost\\data.py:384: FutureWarning: is_categorical_dtype is deprecated and will be removed in a future version. Use isinstance(dtype, CategoricalDtype) instead\n",
      "  if is_categorical_dtype(dtype):\n",
      "c:\\Users\\vrjav\\Downloads\\Assignments\\Fall 2023\\Machine Learning\\assignment\\Lib\\site-packages\\xgboost\\data.py:359: FutureWarning: is_categorical_dtype is deprecated and will be removed in a future version. Use isinstance(dtype, CategoricalDtype) instead\n",
      "  return is_int or is_bool or is_float or is_categorical_dtype(dtype)\n",
      "c:\\Users\\vrjav\\Downloads\\Assignments\\Fall 2023\\Machine Learning\\assignment\\Lib\\site-packages\\xgboost\\data.py:335: FutureWarning: is_sparse is deprecated and will be removed in a future version. Check `isinstance(dtype, pd.SparseDtype)` instead.\n",
      "  if is_sparse(dtype):\n",
      "c:\\Users\\vrjav\\Downloads\\Assignments\\Fall 2023\\Machine Learning\\assignment\\Lib\\site-packages\\xgboost\\data.py:338: FutureWarning: is_categorical_dtype is deprecated and will be removed in a future version. Use isinstance(dtype, CategoricalDtype) instead\n",
      "  is_categorical_dtype(dtype) or is_pa_ext_categorical_dtype(dtype)\n",
      "c:\\Users\\vrjav\\Downloads\\Assignments\\Fall 2023\\Machine Learning\\assignment\\Lib\\site-packages\\xgboost\\data.py:384: FutureWarning: is_categorical_dtype is deprecated and will be removed in a future version. Use isinstance(dtype, CategoricalDtype) instead\n",
      "  if is_categorical_dtype(dtype):\n",
      "c:\\Users\\vrjav\\Downloads\\Assignments\\Fall 2023\\Machine Learning\\assignment\\Lib\\site-packages\\xgboost\\data.py:359: FutureWarning: is_categorical_dtype is deprecated and will be removed in a future version. Use isinstance(dtype, CategoricalDtype) instead\n",
      "  return is_int or is_bool or is_float or is_categorical_dtype(dtype)\n"
     ]
    }
   ],
   "source": [
    "\"\"\"from sklearn.ensemble import RandomForestClassifier\n",
    "\n",
    "# Create a Random Forest classifier\n",
    "rf_classifier = RandomForestClassifier(n_estimators=100, random_state=42)\n",
    "\n",
    "# Fit the Random Forest classifier on the training data\n",
    "rf_classifier.fit(X_train_t75, y_train_encoded)\n",
    "\n",
    "\"\"\"\n",
    "import xgboost as xgb\n",
    "\n",
    "# Create an XGBoost classifier\n",
    "xgb_classifier = xgb.XGBClassifier(n_estimators=100, random_state=42)\n",
    "\n",
    "# Fit the XGBoost classifier on the training data\n",
    "xgb_classifier.fit(X_train_t75, y_train_encoded)\n",
    "\n",
    "# Predict on the test data\n",
    "y_pred = xgb_classifier.predict(X_test_t75)\n"
   ]
  },
  {
   "cell_type": "code",
   "execution_count": 104,
   "metadata": {},
   "outputs": [
    {
     "name": "stderr",
     "output_type": "stream",
     "text": [
      "c:\\Users\\vrjav\\Downloads\\Assignments\\Fall 2023\\Machine Learning\\assignment\\Lib\\site-packages\\xgboost\\data.py:335: FutureWarning: is_sparse is deprecated and will be removed in a future version. Check `isinstance(dtype, pd.SparseDtype)` instead.\n",
      "  if is_sparse(dtype):\n",
      "c:\\Users\\vrjav\\Downloads\\Assignments\\Fall 2023\\Machine Learning\\assignment\\Lib\\site-packages\\xgboost\\data.py:338: FutureWarning: is_categorical_dtype is deprecated and will be removed in a future version. Use isinstance(dtype, CategoricalDtype) instead\n",
      "  is_categorical_dtype(dtype) or is_pa_ext_categorical_dtype(dtype)\n",
      "c:\\Users\\vrjav\\Downloads\\Assignments\\Fall 2023\\Machine Learning\\assignment\\Lib\\site-packages\\xgboost\\data.py:384: FutureWarning: is_categorical_dtype is deprecated and will be removed in a future version. Use isinstance(dtype, CategoricalDtype) instead\n",
      "  if is_categorical_dtype(dtype):\n",
      "c:\\Users\\vrjav\\Downloads\\Assignments\\Fall 2023\\Machine Learning\\assignment\\Lib\\site-packages\\xgboost\\data.py:359: FutureWarning: is_categorical_dtype is deprecated and will be removed in a future version. Use isinstance(dtype, CategoricalDtype) instead\n",
      "  return is_int or is_bool or is_float or is_categorical_dtype(dtype)\n"
     ]
    },
    {
     "ename": "ValueError",
     "evalue": "feature_names mismatch: ['Tick#', 'offsetTime', 'IMU_ATTI(0):numSats', 'IMU_ATTI(0):barometer:Raw', 'IMU_ATTI(0):barometer:Smooth', 'IMU_ATTI(0):accel:X', 'IMU_ATTI(0):accel:Y', 'IMU_ATTI(0):accel:Z', 'IMU_ATTI(0):accel:Composite', 'IMU_ATTI(0):gyro:X', 'IMU_ATTI(0):gyro:Y', 'IMU_ATTI(0):gyro:Z', 'IMU_ATTI(0):gyro:Composite', 'IMU_ATTI(0):mag:X', 'IMU_ATTI(0):mag:Y', 'IMU_ATTI(0):mag:Z', 'IMU_ATTI(0):mag:Mod', 'IMU_ATTI(0):velN', 'IMU_ATTI(0):velE', 'IMU_ATTI(0):velD', 'IMU_ATTI(0):velComposite', 'IMU_ATTI(0):velH', 'IMU_ATTI(0):GPS-H', 'IMU_ATTI(0):roll', 'IMU_ATTI(0):pitch', 'IMU_ATTI(0):yaw', 'IMU_ATTI(0):yaw360', 'IMU_ATTI(0):totalGyro:Z', 'IMU_ATTI(0):totalGyro:X', 'IMU_ATTI(0):totalGyro:Y', 'IMU_ATTI(0):magYaw', 'IMU_ATTI(0):directionOfTravel_mag_', 'IMU_ATTI(0):directionOfTravel_true_', 'IMU_ATTI(0):temperature', 'General:relativeHeight', 'GPS(0):heightMSL', 'GPS(0):hDOP', 'GPS(0):pDOP', 'GPS(0):sAcc', 'GPS(0):numGPS', 'GPS(0):numGLNAS', 'GPS(0):numSV', 'GPS(0):velN', 'GPS(0):velE', 'GPS(0):velD', 'RC:Aileron', 'RC:Elevator', 'RC:Rudder', 'RC:Throttle', 'OA:frontDistance', 'Motor:Speed:RFront', 'Motor:Speed:LFront', 'Motor:Speed:LBack', 'Motor:Speed:RBack', 'Motor:EscTemp:RFront', 'Motor:EscTemp:LFront', 'Motor:EscTemp:LBack', 'Motor:EscTemp:RBack', 'Motor:PPMrecv:RFront', 'Motor:PPMrecv:LFront', 'Motor:PPMrecv:LBack', 'Motor:PPMrecv:RBack', 'Motor:PPMsend:RFront', 'Motor:PPMsend:LFront', 'Motor:PPMsend:LBack', 'Motor:PPMsend:RBack', 'Motor:Volts:RFront', 'Motor:Volts:LFront', 'Motor:Volts:LBack', 'Motor:Volts:RBack', 'Motor:Current:RFront', 'Motor:Current:LFront', 'Motor:Current:LBack', 'Motor:Current:RBack', 'Motor:thrustAngle', 'AirComp:AirSpeedBody:X', 'AirComp:AirSpeedBody:Y', 'AirComp:Alti', 'AirComp:VelNorm', 'AirComp:VelTime:1', 'AirComp:VelTime:2', 'IMU_ATTI(1):barometer:Raw', 'IMU_ATTI(1):barometer:Smooth', 'IMU_ATTI(1):accel:X', 'IMU_ATTI(1):accel:Y', 'IMU_ATTI(1):accel:Z', 'IMU_ATTI(1):accel:Composite', 'IMU_ATTI(1):gyro:X', 'IMU_ATTI(1):gyro:Y', 'IMU_ATTI(1):gyro:Z', 'IMU_ATTI(1):gyro:Composite', 'IMU_ATTI(1):mag:X', 'IMU_ATTI(1):mag:Y', 'IMU_ATTI(1):mag:Z', 'IMU_ATTI(1):mag:Mod', 'IMU_ATTI(1):velN', 'IMU_ATTI(1):velE', 'IMU_ATTI(1):velD', 'IMU_ATTI(1):velComposite', 'IMU_ATTI(1):velH', 'IMU_ATTI(1):GPS-H', 'IMU_ATTI(1):roll', 'IMU_ATTI(1):pitch', 'IMU_ATTI(1):yaw', 'IMU_ATTI(1):yaw360', 'IMU_ATTI(1):totalGyro:Z', 'IMU_ATTI(1):totalGyro:X', 'IMU_ATTI(1):totalGyro:Y', 'IMU_ATTI(1):magYaw', 'IMU_ATTI(1):directionOfTravel_mag_', 'IMU_ATTI(1):directionOfTravel_true_', 'IMU_ATTI(1):temperature', 'MotorCtrl:PWM:RFront', 'MotorCtrl:PWM:LFront', 'MotorCtrl:PWM:LBack', 'MotorCtrl:PWM:RBack', 'AirCraftCondition:fsmState', 'AirCraftCondition:landState', 'AirCraftCondition:UP_acc_t', 'AirCraftCondition:nearGround_False', 'AirCraftCondition:nearGround_True'] ['Tick#', 'offsetTime', 'IMU_ATTI(0):numSats', 'IMU_ATTI(0):barometer:Raw', 'IMU_ATTI(0):barometer:Smooth', 'IMU_ATTI(0):accel:X', 'IMU_ATTI(0):accel:Y', 'IMU_ATTI(0):accel:Z', 'IMU_ATTI(0):accel:Composite', 'IMU_ATTI(0):gyro:X', 'IMU_ATTI(0):gyro:Y', 'IMU_ATTI(0):gyro:Z', 'IMU_ATTI(0):gyro:Composite', 'IMU_ATTI(0):mag:X', 'IMU_ATTI(0):mag:Y', 'IMU_ATTI(0):mag:Z', 'IMU_ATTI(0):mag:Mod', 'IMU_ATTI(0):velN', 'IMU_ATTI(0):velE', 'IMU_ATTI(0):velD', 'IMU_ATTI(0):velComposite', 'IMU_ATTI(0):velH', 'IMU_ATTI(0):GPS-H', 'IMU_ATTI(0):roll', 'IMU_ATTI(0):pitch', 'IMU_ATTI(0):yaw', 'IMU_ATTI(0):yaw360', 'IMU_ATTI(0):totalGyro:Z', 'IMU_ATTI(0):totalGyro:X', 'IMU_ATTI(0):totalGyro:Y', 'IMU_ATTI(0):magYaw', 'IMU_ATTI(0):directionOfTravel[mag]', 'IMU_ATTI(0):directionOfTravel[true]', 'IMU_ATTI(0):temperature', 'General:relativeHeight', 'GPS(0):heightMSL', 'GPS(0):hDOP', 'GPS(0):pDOP', 'GPS(0):sAcc', 'GPS(0):numGPS', 'GPS(0):numGLNAS', 'GPS(0):numSV', 'GPS(0):velN', 'GPS(0):velE', 'GPS(0):velD', 'RC:Aileron', 'RC:Elevator', 'RC:Rudder', 'RC:Throttle', 'OA:frontDistance', 'Motor:Speed:RFront', 'Motor:Speed:LFront', 'Motor:Speed:LBack', 'Motor:Speed:RBack', 'Motor:EscTemp:RFront', 'Motor:EscTemp:LFront', 'Motor:EscTemp:LBack', 'Motor:EscTemp:RBack', 'Motor:PPMrecv:RFront', 'Motor:PPMrecv:LFront', 'Motor:PPMrecv:LBack', 'Motor:PPMrecv:RBack', 'Motor:PPMsend:RFront', 'Motor:PPMsend:LFront', 'Motor:PPMsend:LBack', 'Motor:PPMsend:RBack', 'Motor:Volts:RFront', 'Motor:Volts:LFront', 'Motor:Volts:LBack', 'Motor:Volts:RBack', 'Motor:Current:RFront', 'Motor:Current:LFront', 'Motor:Current:LBack', 'Motor:Current:RBack', 'Motor:thrustAngle', 'AirComp:AirSpeedBody:X', 'AirComp:AirSpeedBody:Y', 'AirComp:Alti', 'AirComp:VelNorm', 'AirComp:VelTime:1', 'AirComp:VelTime:2', 'IMU_ATTI(1):barometer:Raw', 'IMU_ATTI(1):barometer:Smooth', 'IMU_ATTI(1):accel:X', 'IMU_ATTI(1):accel:Y', 'IMU_ATTI(1):accel:Z', 'IMU_ATTI(1):accel:Composite', 'IMU_ATTI(1):gyro:X', 'IMU_ATTI(1):gyro:Y', 'IMU_ATTI(1):gyro:Z', 'IMU_ATTI(1):gyro:Composite', 'IMU_ATTI(1):mag:X', 'IMU_ATTI(1):mag:Y', 'IMU_ATTI(1):mag:Z', 'IMU_ATTI(1):mag:Mod', 'IMU_ATTI(1):velN', 'IMU_ATTI(1):velE', 'IMU_ATTI(1):velD', 'IMU_ATTI(1):velComposite', 'IMU_ATTI(1):velH', 'IMU_ATTI(1):GPS-H', 'IMU_ATTI(1):roll', 'IMU_ATTI(1):pitch', 'IMU_ATTI(1):yaw', 'IMU_ATTI(1):yaw360', 'IMU_ATTI(1):totalGyro:Z', 'IMU_ATTI(1):totalGyro:X', 'IMU_ATTI(1):totalGyro:Y', 'IMU_ATTI(1):magYaw', 'IMU_ATTI(1):directionOfTravel[mag]', 'IMU_ATTI(1):directionOfTravel[true]', 'IMU_ATTI(1):temperature', 'MotorCtrl:PWM:RFront', 'MotorCtrl:PWM:LFront', 'MotorCtrl:PWM:LBack', 'MotorCtrl:PWM:RBack', 'AirCraftCondition:fsmState', 'AirCraftCondition:landState', 'AirCraftCondition:UP_acc_t', 'AirCraftCondition:nearGround_False', 'AirCraftCondition:nearGround_True']\nexpected IMU_ATTI(0):directionOfTravel_true_, IMU_ATTI(1):directionOfTravel_true_, IMU_ATTI(1):directionOfTravel_mag_, IMU_ATTI(0):directionOfTravel_mag_ in input data\ntraining data did not have the following fields: IMU_ATTI(1):directionOfTravel[true], IMU_ATTI(0):directionOfTravel[mag], IMU_ATTI(0):directionOfTravel[true], IMU_ATTI(1):directionOfTravel[mag]",
     "output_type": "error",
     "traceback": [
      "\u001b[1;31m---------------------------------------------------------------------------\u001b[0m",
      "\u001b[1;31mValueError\u001b[0m                                Traceback (most recent call last)",
      "\u001b[1;32mc:\\Users\\vrjav\\Downloads\\Assignments\\Fall 2023\\Machine Learning\\assignment\\Kaggle\\new_test.ipynb Cell 22\u001b[0m line \u001b[0;36m2\n\u001b[0;32m     <a href='vscode-notebook-cell:/c%3A/Users/vrjav/Downloads/Assignments/Fall%202023/Machine%20Learning/assignment/Kaggle/new_test.ipynb#X32sZmlsZQ%3D%3D?line=23'>24</a>\u001b[0m \u001b[39m# Create a new DataFrame with the imputed values\u001b[39;00m\n\u001b[0;32m     <a href='vscode-notebook-cell:/c%3A/Users/vrjav/Downloads/Assignments/Fall%202023/Machine%20Learning/assignment/Kaggle/new_test.ipynb#X32sZmlsZQ%3D%3D?line=24'>25</a>\u001b[0m judge_data_imputed_df \u001b[39m=\u001b[39m pd\u001b[39m.\u001b[39mDataFrame(judge_data_imputed, columns\u001b[39m=\u001b[39mjudge_data_t75\u001b[39m.\u001b[39mcolumns)\n\u001b[1;32m---> <a href='vscode-notebook-cell:/c%3A/Users/vrjav/Downloads/Assignments/Fall%202023/Machine%20Learning/assignment/Kaggle/new_test.ipynb#X32sZmlsZQ%3D%3D?line=26'>27</a>\u001b[0m predicted_operating_phase \u001b[39m=\u001b[39m xgb_classifier\u001b[39m.\u001b[39;49mpredict(judge_data_imputed_df)\n",
      "File \u001b[1;32mc:\\Users\\vrjav\\Downloads\\Assignments\\Fall 2023\\Machine Learning\\assignment\\Lib\\site-packages\\xgboost\\sklearn.py:1549\u001b[0m, in \u001b[0;36mXGBClassifier.predict\u001b[1;34m(self, X, output_margin, validate_features, base_margin, iteration_range)\u001b[0m\n\u001b[0;32m   1540\u001b[0m \u001b[39mdef\u001b[39;00m \u001b[39mpredict\u001b[39m(\n\u001b[0;32m   1541\u001b[0m     \u001b[39mself\u001b[39m,\n\u001b[0;32m   1542\u001b[0m     X: ArrayLike,\n\u001b[1;32m   (...)\u001b[0m\n\u001b[0;32m   1546\u001b[0m     iteration_range: Optional[Tuple[\u001b[39mint\u001b[39m, \u001b[39mint\u001b[39m]] \u001b[39m=\u001b[39m \u001b[39mNone\u001b[39;00m,\n\u001b[0;32m   1547\u001b[0m ) \u001b[39m-\u001b[39m\u001b[39m>\u001b[39m ArrayLike:\n\u001b[0;32m   1548\u001b[0m     \u001b[39mwith\u001b[39;00m config_context(verbosity\u001b[39m=\u001b[39m\u001b[39mself\u001b[39m\u001b[39m.\u001b[39mverbosity):\n\u001b[1;32m-> 1549\u001b[0m         class_probs \u001b[39m=\u001b[39m \u001b[39msuper\u001b[39;49m()\u001b[39m.\u001b[39;49mpredict(\n\u001b[0;32m   1550\u001b[0m             X\u001b[39m=\u001b[39;49mX,\n\u001b[0;32m   1551\u001b[0m             output_margin\u001b[39m=\u001b[39;49moutput_margin,\n\u001b[0;32m   1552\u001b[0m             validate_features\u001b[39m=\u001b[39;49mvalidate_features,\n\u001b[0;32m   1553\u001b[0m             base_margin\u001b[39m=\u001b[39;49mbase_margin,\n\u001b[0;32m   1554\u001b[0m             iteration_range\u001b[39m=\u001b[39;49miteration_range,\n\u001b[0;32m   1555\u001b[0m         )\n\u001b[0;32m   1556\u001b[0m         \u001b[39mif\u001b[39;00m output_margin:\n\u001b[0;32m   1557\u001b[0m             \u001b[39m# If output_margin is active, simply return the scores\u001b[39;00m\n\u001b[0;32m   1558\u001b[0m             \u001b[39mreturn\u001b[39;00m class_probs\n",
      "File \u001b[1;32mc:\\Users\\vrjav\\Downloads\\Assignments\\Fall 2023\\Machine Learning\\assignment\\Lib\\site-packages\\xgboost\\sklearn.py:1164\u001b[0m, in \u001b[0;36mXGBModel.predict\u001b[1;34m(self, X, output_margin, validate_features, base_margin, iteration_range)\u001b[0m\n\u001b[0;32m   1162\u001b[0m \u001b[39mif\u001b[39;00m \u001b[39mself\u001b[39m\u001b[39m.\u001b[39m_can_use_inplace_predict():\n\u001b[0;32m   1163\u001b[0m     \u001b[39mtry\u001b[39;00m:\n\u001b[1;32m-> 1164\u001b[0m         predts \u001b[39m=\u001b[39m \u001b[39mself\u001b[39;49m\u001b[39m.\u001b[39;49mget_booster()\u001b[39m.\u001b[39;49minplace_predict(\n\u001b[0;32m   1165\u001b[0m             data\u001b[39m=\u001b[39;49mX,\n\u001b[0;32m   1166\u001b[0m             iteration_range\u001b[39m=\u001b[39;49miteration_range,\n\u001b[0;32m   1167\u001b[0m             predict_type\u001b[39m=\u001b[39;49m\u001b[39m\"\u001b[39;49m\u001b[39mmargin\u001b[39;49m\u001b[39m\"\u001b[39;49m \u001b[39mif\u001b[39;49;00m output_margin \u001b[39melse\u001b[39;49;00m \u001b[39m\"\u001b[39;49m\u001b[39mvalue\u001b[39;49m\u001b[39m\"\u001b[39;49m,\n\u001b[0;32m   1168\u001b[0m             missing\u001b[39m=\u001b[39;49m\u001b[39mself\u001b[39;49m\u001b[39m.\u001b[39;49mmissing,\n\u001b[0;32m   1169\u001b[0m             base_margin\u001b[39m=\u001b[39;49mbase_margin,\n\u001b[0;32m   1170\u001b[0m             validate_features\u001b[39m=\u001b[39;49mvalidate_features,\n\u001b[0;32m   1171\u001b[0m         )\n\u001b[0;32m   1172\u001b[0m         \u001b[39mif\u001b[39;00m _is_cupy_array(predts):\n\u001b[0;32m   1173\u001b[0m             \u001b[39mimport\u001b[39;00m \u001b[39mcupy\u001b[39;00m  \u001b[39m# pylint: disable=import-error\u001b[39;00m\n",
      "File \u001b[1;32mc:\\Users\\vrjav\\Downloads\\Assignments\\Fall 2023\\Machine Learning\\assignment\\Lib\\site-packages\\xgboost\\core.py:2416\u001b[0m, in \u001b[0;36mBooster.inplace_predict\u001b[1;34m(self, data, iteration_range, predict_type, missing, validate_features, base_margin, strict_shape)\u001b[0m\n\u001b[0;32m   2414\u001b[0m     data, fns, _ \u001b[39m=\u001b[39m _transform_pandas_df(data, enable_categorical)\n\u001b[0;32m   2415\u001b[0m     \u001b[39mif\u001b[39;00m validate_features:\n\u001b[1;32m-> 2416\u001b[0m         \u001b[39mself\u001b[39;49m\u001b[39m.\u001b[39;49m_validate_features(fns)\n\u001b[0;32m   2417\u001b[0m \u001b[39mif\u001b[39;00m _is_list(data) \u001b[39mor\u001b[39;00m _is_tuple(data):\n\u001b[0;32m   2418\u001b[0m     data \u001b[39m=\u001b[39m np\u001b[39m.\u001b[39marray(data)\n",
      "File \u001b[1;32mc:\\Users\\vrjav\\Downloads\\Assignments\\Fall 2023\\Machine Learning\\assignment\\Lib\\site-packages\\xgboost\\core.py:2968\u001b[0m, in \u001b[0;36mBooster._validate_features\u001b[1;34m(self, feature_names)\u001b[0m\n\u001b[0;32m   2962\u001b[0m \u001b[39mif\u001b[39;00m my_missing:\n\u001b[0;32m   2963\u001b[0m     msg \u001b[39m+\u001b[39m\u001b[39m=\u001b[39m (\n\u001b[0;32m   2964\u001b[0m         \u001b[39m\"\u001b[39m\u001b[39m\\n\u001b[39;00m\u001b[39mtraining data did not have the following fields: \u001b[39m\u001b[39m\"\u001b[39m\n\u001b[0;32m   2965\u001b[0m         \u001b[39m+\u001b[39m \u001b[39m\"\u001b[39m\u001b[39m, \u001b[39m\u001b[39m\"\u001b[39m\u001b[39m.\u001b[39mjoin(\u001b[39mstr\u001b[39m(s) \u001b[39mfor\u001b[39;00m s \u001b[39min\u001b[39;00m my_missing)\n\u001b[0;32m   2966\u001b[0m     )\n\u001b[1;32m-> 2968\u001b[0m \u001b[39mraise\u001b[39;00m \u001b[39mValueError\u001b[39;00m(msg\u001b[39m.\u001b[39mformat(\u001b[39mself\u001b[39m\u001b[39m.\u001b[39mfeature_names, feature_names))\n",
      "\u001b[1;31mValueError\u001b[0m: feature_names mismatch: ['Tick#', 'offsetTime', 'IMU_ATTI(0):numSats', 'IMU_ATTI(0):barometer:Raw', 'IMU_ATTI(0):barometer:Smooth', 'IMU_ATTI(0):accel:X', 'IMU_ATTI(0):accel:Y', 'IMU_ATTI(0):accel:Z', 'IMU_ATTI(0):accel:Composite', 'IMU_ATTI(0):gyro:X', 'IMU_ATTI(0):gyro:Y', 'IMU_ATTI(0):gyro:Z', 'IMU_ATTI(0):gyro:Composite', 'IMU_ATTI(0):mag:X', 'IMU_ATTI(0):mag:Y', 'IMU_ATTI(0):mag:Z', 'IMU_ATTI(0):mag:Mod', 'IMU_ATTI(0):velN', 'IMU_ATTI(0):velE', 'IMU_ATTI(0):velD', 'IMU_ATTI(0):velComposite', 'IMU_ATTI(0):velH', 'IMU_ATTI(0):GPS-H', 'IMU_ATTI(0):roll', 'IMU_ATTI(0):pitch', 'IMU_ATTI(0):yaw', 'IMU_ATTI(0):yaw360', 'IMU_ATTI(0):totalGyro:Z', 'IMU_ATTI(0):totalGyro:X', 'IMU_ATTI(0):totalGyro:Y', 'IMU_ATTI(0):magYaw', 'IMU_ATTI(0):directionOfTravel_mag_', 'IMU_ATTI(0):directionOfTravel_true_', 'IMU_ATTI(0):temperature', 'General:relativeHeight', 'GPS(0):heightMSL', 'GPS(0):hDOP', 'GPS(0):pDOP', 'GPS(0):sAcc', 'GPS(0):numGPS', 'GPS(0):numGLNAS', 'GPS(0):numSV', 'GPS(0):velN', 'GPS(0):velE', 'GPS(0):velD', 'RC:Aileron', 'RC:Elevator', 'RC:Rudder', 'RC:Throttle', 'OA:frontDistance', 'Motor:Speed:RFront', 'Motor:Speed:LFront', 'Motor:Speed:LBack', 'Motor:Speed:RBack', 'Motor:EscTemp:RFront', 'Motor:EscTemp:LFront', 'Motor:EscTemp:LBack', 'Motor:EscTemp:RBack', 'Motor:PPMrecv:RFront', 'Motor:PPMrecv:LFront', 'Motor:PPMrecv:LBack', 'Motor:PPMrecv:RBack', 'Motor:PPMsend:RFront', 'Motor:PPMsend:LFront', 'Motor:PPMsend:LBack', 'Motor:PPMsend:RBack', 'Motor:Volts:RFront', 'Motor:Volts:LFront', 'Motor:Volts:LBack', 'Motor:Volts:RBack', 'Motor:Current:RFront', 'Motor:Current:LFront', 'Motor:Current:LBack', 'Motor:Current:RBack', 'Motor:thrustAngle', 'AirComp:AirSpeedBody:X', 'AirComp:AirSpeedBody:Y', 'AirComp:Alti', 'AirComp:VelNorm', 'AirComp:VelTime:1', 'AirComp:VelTime:2', 'IMU_ATTI(1):barometer:Raw', 'IMU_ATTI(1):barometer:Smooth', 'IMU_ATTI(1):accel:X', 'IMU_ATTI(1):accel:Y', 'IMU_ATTI(1):accel:Z', 'IMU_ATTI(1):accel:Composite', 'IMU_ATTI(1):gyro:X', 'IMU_ATTI(1):gyro:Y', 'IMU_ATTI(1):gyro:Z', 'IMU_ATTI(1):gyro:Composite', 'IMU_ATTI(1):mag:X', 'IMU_ATTI(1):mag:Y', 'IMU_ATTI(1):mag:Z', 'IMU_ATTI(1):mag:Mod', 'IMU_ATTI(1):velN', 'IMU_ATTI(1):velE', 'IMU_ATTI(1):velD', 'IMU_ATTI(1):velComposite', 'IMU_ATTI(1):velH', 'IMU_ATTI(1):GPS-H', 'IMU_ATTI(1):roll', 'IMU_ATTI(1):pitch', 'IMU_ATTI(1):yaw', 'IMU_ATTI(1):yaw360', 'IMU_ATTI(1):totalGyro:Z', 'IMU_ATTI(1):totalGyro:X', 'IMU_ATTI(1):totalGyro:Y', 'IMU_ATTI(1):magYaw', 'IMU_ATTI(1):directionOfTravel_mag_', 'IMU_ATTI(1):directionOfTravel_true_', 'IMU_ATTI(1):temperature', 'MotorCtrl:PWM:RFront', 'MotorCtrl:PWM:LFront', 'MotorCtrl:PWM:LBack', 'MotorCtrl:PWM:RBack', 'AirCraftCondition:fsmState', 'AirCraftCondition:landState', 'AirCraftCondition:UP_acc_t', 'AirCraftCondition:nearGround_False', 'AirCraftCondition:nearGround_True'] ['Tick#', 'offsetTime', 'IMU_ATTI(0):numSats', 'IMU_ATTI(0):barometer:Raw', 'IMU_ATTI(0):barometer:Smooth', 'IMU_ATTI(0):accel:X', 'IMU_ATTI(0):accel:Y', 'IMU_ATTI(0):accel:Z', 'IMU_ATTI(0):accel:Composite', 'IMU_ATTI(0):gyro:X', 'IMU_ATTI(0):gyro:Y', 'IMU_ATTI(0):gyro:Z', 'IMU_ATTI(0):gyro:Composite', 'IMU_ATTI(0):mag:X', 'IMU_ATTI(0):mag:Y', 'IMU_ATTI(0):mag:Z', 'IMU_ATTI(0):mag:Mod', 'IMU_ATTI(0):velN', 'IMU_ATTI(0):velE', 'IMU_ATTI(0):velD', 'IMU_ATTI(0):velComposite', 'IMU_ATTI(0):velH', 'IMU_ATTI(0):GPS-H', 'IMU_ATTI(0):roll', 'IMU_ATTI(0):pitch', 'IMU_ATTI(0):yaw', 'IMU_ATTI(0):yaw360', 'IMU_ATTI(0):totalGyro:Z', 'IMU_ATTI(0):totalGyro:X', 'IMU_ATTI(0):totalGyro:Y', 'IMU_ATTI(0):magYaw', 'IMU_ATTI(0):directionOfTravel[mag]', 'IMU_ATTI(0):directionOfTravel[true]', 'IMU_ATTI(0):temperature', 'General:relativeHeight', 'GPS(0):heightMSL', 'GPS(0):hDOP', 'GPS(0):pDOP', 'GPS(0):sAcc', 'GPS(0):numGPS', 'GPS(0):numGLNAS', 'GPS(0):numSV', 'GPS(0):velN', 'GPS(0):velE', 'GPS(0):velD', 'RC:Aileron', 'RC:Elevator', 'RC:Rudder', 'RC:Throttle', 'OA:frontDistance', 'Motor:Speed:RFront', 'Motor:Speed:LFront', 'Motor:Speed:LBack', 'Motor:Speed:RBack', 'Motor:EscTemp:RFront', 'Motor:EscTemp:LFront', 'Motor:EscTemp:LBack', 'Motor:EscTemp:RBack', 'Motor:PPMrecv:RFront', 'Motor:PPMrecv:LFront', 'Motor:PPMrecv:LBack', 'Motor:PPMrecv:RBack', 'Motor:PPMsend:RFront', 'Motor:PPMsend:LFront', 'Motor:PPMsend:LBack', 'Motor:PPMsend:RBack', 'Motor:Volts:RFront', 'Motor:Volts:LFront', 'Motor:Volts:LBack', 'Motor:Volts:RBack', 'Motor:Current:RFront', 'Motor:Current:LFront', 'Motor:Current:LBack', 'Motor:Current:RBack', 'Motor:thrustAngle', 'AirComp:AirSpeedBody:X', 'AirComp:AirSpeedBody:Y', 'AirComp:Alti', 'AirComp:VelNorm', 'AirComp:VelTime:1', 'AirComp:VelTime:2', 'IMU_ATTI(1):barometer:Raw', 'IMU_ATTI(1):barometer:Smooth', 'IMU_ATTI(1):accel:X', 'IMU_ATTI(1):accel:Y', 'IMU_ATTI(1):accel:Z', 'IMU_ATTI(1):accel:Composite', 'IMU_ATTI(1):gyro:X', 'IMU_ATTI(1):gyro:Y', 'IMU_ATTI(1):gyro:Z', 'IMU_ATTI(1):gyro:Composite', 'IMU_ATTI(1):mag:X', 'IMU_ATTI(1):mag:Y', 'IMU_ATTI(1):mag:Z', 'IMU_ATTI(1):mag:Mod', 'IMU_ATTI(1):velN', 'IMU_ATTI(1):velE', 'IMU_ATTI(1):velD', 'IMU_ATTI(1):velComposite', 'IMU_ATTI(1):velH', 'IMU_ATTI(1):GPS-H', 'IMU_ATTI(1):roll', 'IMU_ATTI(1):pitch', 'IMU_ATTI(1):yaw', 'IMU_ATTI(1):yaw360', 'IMU_ATTI(1):totalGyro:Z', 'IMU_ATTI(1):totalGyro:X', 'IMU_ATTI(1):totalGyro:Y', 'IMU_ATTI(1):magYaw', 'IMU_ATTI(1):directionOfTravel[mag]', 'IMU_ATTI(1):directionOfTravel[true]', 'IMU_ATTI(1):temperature', 'MotorCtrl:PWM:RFront', 'MotorCtrl:PWM:LFront', 'MotorCtrl:PWM:LBack', 'MotorCtrl:PWM:RBack', 'AirCraftCondition:fsmState', 'AirCraftCondition:landState', 'AirCraftCondition:UP_acc_t', 'AirCraftCondition:nearGround_False', 'AirCraftCondition:nearGround_True']\nexpected IMU_ATTI(0):directionOfTravel_true_, IMU_ATTI(1):directionOfTravel_true_, IMU_ATTI(1):directionOfTravel_mag_, IMU_ATTI(0):directionOfTravel_mag_ in input data\ntraining data did not have the following fields: IMU_ATTI(1):directionOfTravel[true], IMU_ATTI(0):directionOfTravel[mag], IMU_ATTI(0):directionOfTravel[true], IMU_ATTI(1):directionOfTravel[mag]"
     ]
    }
   ],
   "source": [
    "\"\"\"from sklearn.impute import SimpleImputer\n",
    "\n",
    "# Create an imputer that replaces NaN values with the mean of each column\n",
    "imputer = SimpleImputer(strategy='mean')\n",
    "\n",
    "# Fit the imputer on your judge dataset and transform it\n",
    "judge_data_imputed = imputer.fit_transform(judge_data_t75)\n",
    "\n",
    "# Create a new DataFrame with the imputed values\n",
    "judge_data_imputed_df = pd.DataFrame(judge_data_imputed, columns=judge_data_t75.columns)\n",
    "\n",
    "# Now, you can use this imputed dataset for prediction\n",
    "predicted_operating_phase = rf_classifier.predict(judge_data_imputed_df)\n",
    "\"\"\"\n",
    "import xgboost as xgb\n",
    "from sklearn.impute import SimpleImputer\n",
    "\n",
    "# Create an imputer that replaces NaN values with the mean of each column\n",
    "imputer = SimpleImputer(strategy='mean')\n",
    "\n",
    "# Fit the imputer on your judge dataset and transform it\n",
    "judge_data_imputed = imputer.fit_transform(judge_data_t75)\n",
    "\n",
    "# Create a new DataFrame with the imputed values\n",
    "judge_data_imputed_df = pd.DataFrame(judge_data_imputed, columns=judge_data_t75.columns)\n",
    "\n",
    "predicted_operating_phase = xgb_classifier.predict(judge_data_imputed_df)\n",
    "\n"
   ]
  },
  {
   "cell_type": "code",
   "execution_count": 51,
   "metadata": {},
   "outputs": [
    {
     "name": "stdout",
     "output_type": "stream",
     "text": [
      "Prediction and CSV export completed.\n"
     ]
    }
   ],
   "source": [
    "\n",
    "# Map the numerical predictions back to their corresponding labels\n",
    "class_labels = ['Resting', 'Taking-Off', 'Hovering', 'Climbing', 'Landing']\n",
    "predicted_operating_phase_labels = [class_labels[prediction] for prediction in predicted_operating_phase]\n",
    "\n",
    "# Create a new dataset containing \"Tick#\" and \"Operating_Phase\" columns\n",
    "new_dataset = judge_data[[\"Tick#\"]].copy()\n",
    "new_dataset[\"Operating_Phase\"] = predicted_operating_phase_labels\n",
    "\n",
    "# Save the new dataset to a CSV file\n",
    "new_dataset.to_csv(\"new_dataset_with_tick_and_operating_phase_1.csv\", index=False)\n",
    "\n",
    "print(\"Prediction and CSV export completed.\")"
   ]
  },
  {
   "cell_type": "code",
   "execution_count": null,
   "metadata": {},
   "outputs": [],
   "source": []
  }
 ],
 "metadata": {
  "kernelspec": {
   "display_name": "assignment",
   "language": "python",
   "name": "python3"
  },
  "language_info": {
   "codemirror_mode": {
    "name": "ipython",
    "version": 3
   },
   "file_extension": ".py",
   "mimetype": "text/x-python",
   "name": "python",
   "nbconvert_exporter": "python",
   "pygments_lexer": "ipython3",
   "version": "3.11.6"
  },
  "orig_nbformat": 4
 },
 "nbformat": 4,
 "nbformat_minor": 2
}
